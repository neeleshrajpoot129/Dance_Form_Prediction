{
 "cells": [
  {
   "cell_type": "markdown",
   "metadata": {},
   "source": [
    "# HACKEREARTH DEEP LEARNING CHALLENGE"
   ]
  },
  {
   "cell_type": "markdown",
   "metadata": {},
   "source": [
    "# Importing The Libraries"
   ]
  },
  {
   "cell_type": "code",
   "execution_count": 1,
   "metadata": {},
   "outputs": [],
   "source": [
    "import numpy as np\n",
    "import pandas as pd\n",
    "import seaborn as sns\n",
    "import matplotlib.pyplot as plt"
   ]
  },
  {
   "cell_type": "markdown",
   "metadata": {},
   "source": [
    "# Importing Training and Test Data"
   ]
  },
  {
   "cell_type": "code",
   "execution_count": 3,
   "metadata": {},
   "outputs": [],
   "source": [
    "df_train=pd.read_csv(\"train.csv\")"
   ]
  },
  {
   "cell_type": "code",
   "execution_count": 4,
   "metadata": {},
   "outputs": [
    {
     "data": {
      "text/html": [
       "<div>\n",
       "<style scoped>\n",
       "    .dataframe tbody tr th:only-of-type {\n",
       "        vertical-align: middle;\n",
       "    }\n",
       "\n",
       "    .dataframe tbody tr th {\n",
       "        vertical-align: top;\n",
       "    }\n",
       "\n",
       "    .dataframe thead th {\n",
       "        text-align: right;\n",
       "    }\n",
       "</style>\n",
       "<table border=\"1\" class=\"dataframe\">\n",
       "  <thead>\n",
       "    <tr style=\"text-align: right;\">\n",
       "      <th></th>\n",
       "      <th>Image</th>\n",
       "      <th>target</th>\n",
       "    </tr>\n",
       "  </thead>\n",
       "  <tbody>\n",
       "    <tr>\n",
       "      <th>0</th>\n",
       "      <td>96.jpg</td>\n",
       "      <td>manipuri</td>\n",
       "    </tr>\n",
       "    <tr>\n",
       "      <th>1</th>\n",
       "      <td>163.jpg</td>\n",
       "      <td>bharatanatyam</td>\n",
       "    </tr>\n",
       "    <tr>\n",
       "      <th>2</th>\n",
       "      <td>450.jpg</td>\n",
       "      <td>odissi</td>\n",
       "    </tr>\n",
       "    <tr>\n",
       "      <th>3</th>\n",
       "      <td>219.jpg</td>\n",
       "      <td>kathakali</td>\n",
       "    </tr>\n",
       "    <tr>\n",
       "      <th>4</th>\n",
       "      <td>455.jpg</td>\n",
       "      <td>odissi</td>\n",
       "    </tr>\n",
       "  </tbody>\n",
       "</table>\n",
       "</div>"
      ],
      "text/plain": [
       "     Image         target\n",
       "0   96.jpg       manipuri\n",
       "1  163.jpg  bharatanatyam\n",
       "2  450.jpg         odissi\n",
       "3  219.jpg      kathakali\n",
       "4  455.jpg         odissi"
      ]
     },
     "execution_count": 4,
     "metadata": {},
     "output_type": "execute_result"
    }
   ],
   "source": [
    "df_train.head()\n"
   ]
  },
  {
   "cell_type": "code",
   "execution_count": 5,
   "metadata": {},
   "outputs": [],
   "source": [
    "df_test=pd.read_csv(\"test.csv\")"
   ]
  },
  {
   "cell_type": "code",
   "execution_count": 6,
   "metadata": {},
   "outputs": [
    {
     "data": {
      "text/plain": [
       "8"
      ]
     },
     "execution_count": 6,
     "metadata": {},
     "output_type": "execute_result"
    }
   ],
   "source": [
    "#Check How many Unique Values Are Present\n",
    "df_train[\"target\"].nunique()\n",
    "#We Can See That 8 Categories Are Present"
   ]
  },
  {
   "cell_type": "code",
   "execution_count": 7,
   "metadata": {},
   "outputs": [
    {
     "data": {
      "text/html": [
       "<div>\n",
       "<style scoped>\n",
       "    .dataframe tbody tr th:only-of-type {\n",
       "        vertical-align: middle;\n",
       "    }\n",
       "\n",
       "    .dataframe tbody tr th {\n",
       "        vertical-align: top;\n",
       "    }\n",
       "\n",
       "    .dataframe thead th {\n",
       "        text-align: right;\n",
       "    }\n",
       "</style>\n",
       "<table border=\"1\" class=\"dataframe\">\n",
       "  <thead>\n",
       "    <tr style=\"text-align: right;\">\n",
       "      <th></th>\n",
       "      <th>Image</th>\n",
       "    </tr>\n",
       "  </thead>\n",
       "  <tbody>\n",
       "    <tr>\n",
       "      <th>0</th>\n",
       "      <td>508.jpg</td>\n",
       "    </tr>\n",
       "    <tr>\n",
       "      <th>1</th>\n",
       "      <td>246.jpg</td>\n",
       "    </tr>\n",
       "    <tr>\n",
       "      <th>2</th>\n",
       "      <td>473.jpg</td>\n",
       "    </tr>\n",
       "    <tr>\n",
       "      <th>3</th>\n",
       "      <td>485.jpg</td>\n",
       "    </tr>\n",
       "    <tr>\n",
       "      <th>4</th>\n",
       "      <td>128.jpg</td>\n",
       "    </tr>\n",
       "  </tbody>\n",
       "</table>\n",
       "</div>"
      ],
      "text/plain": [
       "     Image\n",
       "0  508.jpg\n",
       "1  246.jpg\n",
       "2  473.jpg\n",
       "3  485.jpg\n",
       "4  128.jpg"
      ]
     },
     "execution_count": 7,
     "metadata": {},
     "output_type": "execute_result"
    }
   ],
   "source": [
    "df_test.head()"
   ]
  },
  {
   "cell_type": "markdown",
   "metadata": {},
   "source": [
    "# Importing The Deep Learning Libraries"
   ]
  },
  {
   "cell_type": "code",
   "execution_count": 5,
   "metadata": {},
   "outputs": [
    {
     "name": "stderr",
     "output_type": "stream",
     "text": [
      "Using TensorFlow backend.\n"
     ]
    }
   ],
   "source": [
    "from keras.layers import Dense\n",
    "from keras.models import Sequential\n",
    "from keras.layers import Conv2D,MaxPool2D,Flatten,Dropout"
   ]
  },
  {
   "cell_type": "markdown",
   "metadata": {},
   "source": [
    "# NOW LETS CHECK THE SHAPE AND SIZE OF THE INPUT IMAGE"
   ]
  },
  {
   "cell_type": "code",
   "execution_count": 7,
   "metadata": {},
   "outputs": [],
   "source": [
    "from PIL import Image"
   ]
  },
  {
   "cell_type": "code",
   "execution_count": 9,
   "metadata": {},
   "outputs": [],
   "source": [
    "im1=Image.open('train/419.jpg')"
   ]
  },
  {
   "cell_type": "code",
   "execution_count": 10,
   "metadata": {},
   "outputs": [
    {
     "data": {
      "image/png": "[encoded data removed]",
      "text/plain": [
       "<PIL.JpegImagePlugin.JpegImageFile image mode=RGB size=220x330 at 0x7F7E8E183438>"
      ]
     },
     "execution_count": 10,
     "metadata": {},
     "output_type": "execute_result"
    }
   ],
   "source": [
    "im1"
   ]
  },
  {
   "cell_type": "code",
   "execution_count": 11,
   "metadata": {},
   "outputs": [],
   "source": [
    "im_array=np.array(im1)"
   ]
  },
  {
   "cell_type": "code",
   "execution_count": 12,
   "metadata": {},
   "outputs": [
    {
     "data": {
      "text/plain": [
       "(330, 220, 3)"
      ]
     },
     "execution_count": 12,
     "metadata": {},
     "output_type": "execute_result"
    }
   ],
   "source": [
    "im_array.shape"
   ]
  },
  {
   "cell_type": "markdown",
   "metadata": {},
   "source": [
    "# LOAD ANOTHER RANDOM IMAGE\n"
   ]
  },
  {
   "cell_type": "code",
   "execution_count": 13,
   "metadata": {},
   "outputs": [],
   "source": [
    "im2=Image.open('train/4.jpg')"
   ]
  },
  {
   "cell_type": "code",
   "execution_count": 14,
   "metadata": {},
   "outputs": [],
   "source": [
    "im2_array=np.array(im2)"
   ]
  },
  {
   "cell_type": "code",
   "execution_count": 15,
   "metadata": {},
   "outputs": [
    {
     "data": {
      "text/plain": [
       "(267, 189, 3)"
      ]
     },
     "execution_count": 15,
     "metadata": {},
     "output_type": "execute_result"
    }
   ],
   "source": [
    "# WE CAN SEE THAT ALL IMAGES ARE NOT OF EQUAL DIMGENSION\n",
    "im2_array.shape"
   ]
  },
  {
   "cell_type": "markdown",
   "metadata": {},
   "source": [
    "# This is How We Will resize Our Image\n",
    "# I am Using I3 Processsor So I am Resizing The Image To (64,64)\n",
    "# You Can Resize It higher Dimension Such As (128,128)"
   ]
  },
  {
   "cell_type": "code",
   "execution_count": 16,
   "metadata": {},
   "outputs": [],
   "source": [
    "im1=im1.resize(size=(64,64))"
   ]
  },
  {
   "cell_type": "code",
   "execution_count": 17,
   "metadata": {},
   "outputs": [
    {
     "data": {
      "image/png": "[encoded data removed]",
      "text/plain": [
       "<PIL.Image.Image image mode=RGB size=64x64 at 0x7F7E8E11A4A8>"
      ]
     },
     "execution_count": 17,
     "metadata": {},
     "output_type": "execute_result"
    }
   ],
   "source": [
    "im1"
   ]
  },
  {
   "cell_type": "markdown",
   "metadata": {},
   "source": [
    "# LETS PREPROCESS OUR DATASET NOW"
   ]
  },
  {
   "cell_type": "code",
   "execution_count": 18,
   "metadata": {},
   "outputs": [
    {
     "data": {
      "text/plain": [
       "364"
      ]
     },
     "execution_count": 18,
     "metadata": {},
     "output_type": "execute_result"
    }
   ],
   "source": [
    "#Checking The Shape Of Dataset\n",
    "df_train.shape[0]"
   ]
  },
  {
   "cell_type": "code",
   "execution_count": 19,
   "metadata": {},
   "outputs": [],
   "source": [
    "for i in range(df_train.shape[0]):\n",
    "    k=df_train[\"Image\"][i]\n",
    "    df_train[\"Image\"][i]=Image.open('train/{}'.format(k))\n",
    "    df_train[\"Image\"][i]=df_train[\"Image\"][i].resize((64,64))\n",
    "    "
   ]
  },
  {
   "cell_type": "markdown",
   "metadata": {},
   "source": [
    "# We Have Resized Our Training Images"
   ]
  },
  {
   "cell_type": "code",
   "execution_count": 20,
   "metadata": {},
   "outputs": [
    {
     "data": {
      "image/png": "[encoded data removed]",
      "text/plain": [
       "<PIL.Image.Image image mode=RGB size=64x64 at 0x7F7E8E10D2B0>"
      ]
     },
     "execution_count": 20,
     "metadata": {},
     "output_type": "execute_result"
    }
   ],
   "source": [
    "df_train[\"Image\"][0]"
   ]
  },
  {
   "cell_type": "markdown",
   "metadata": {},
   "source": [
    "# CONVERTING OUR INPUT SHAPE TO PIXEL FORMAT"
   ]
  },
  {
   "cell_type": "code",
   "execution_count": 22,
   "metadata": {},
   "outputs": [],
   "source": [
    "for i in range(df_train.shape[0]):\n",
    "    k=df_train[\"Image\"][i]\n",
    "    df_train[\"Image\"][i]=np.array(k)\n",
    "    "
   ]
  },
  {
   "cell_type": "code",
   "execution_count": 23,
   "metadata": {},
   "outputs": [
    {
     "data": {
      "text/html": [
       "<div>\n",
       "<style scoped>\n",
       "    .dataframe tbody tr th:only-of-type {\n",
       "        vertical-align: middle;\n",
       "    }\n",
       "\n",
       "    .dataframe tbody tr th {\n",
       "        vertical-align: top;\n",
       "    }\n",
       "\n",
       "    .dataframe thead th {\n",
       "        text-align: right;\n",
       "    }\n",
       "</style>\n",
       "<table border=\"1\" class=\"dataframe\">\n",
       "  <thead>\n",
       "    <tr style=\"text-align: right;\">\n",
       "      <th></th>\n",
       "      <th>Image</th>\n",
       "      <th>target</th>\n",
       "    </tr>\n",
       "  </thead>\n",
       "  <tbody>\n",
       "    <tr>\n",
       "      <th>0</th>\n",
       "      <td>[[[1, 1, 1], [1, 1, 1], [1, 1, 1], [1, 1, 1], ...</td>\n",
       "      <td>manipuri</td>\n",
       "    </tr>\n",
       "    <tr>\n",
       "      <th>1</th>\n",
       "      <td>[[[9, 8, 16], [11, 10, 18], [14, 13, 21], [18,...</td>\n",
       "      <td>bharatanatyam</td>\n",
       "    </tr>\n",
       "    <tr>\n",
       "      <th>2</th>\n",
       "      <td>[[[20, 16, 13], [21, 17, 14], [21, 17, 14], [2...</td>\n",
       "      <td>odissi</td>\n",
       "    </tr>\n",
       "    <tr>\n",
       "      <th>3</th>\n",
       "      <td>[[[25, 19, 5], [27, 21, 7], [25, 19, 5], [25, ...</td>\n",
       "      <td>kathakali</td>\n",
       "    </tr>\n",
       "    <tr>\n",
       "      <th>4</th>\n",
       "      <td>[[[0, 0, 0], [0, 0, 0], [1, 1, 1], [1, 1, 1], ...</td>\n",
       "      <td>odissi</td>\n",
       "    </tr>\n",
       "  </tbody>\n",
       "</table>\n",
       "</div>"
      ],
      "text/plain": [
       "                                               Image         target\n",
       "0  [[[1, 1, 1], [1, 1, 1], [1, 1, 1], [1, 1, 1], ...       manipuri\n",
       "1  [[[9, 8, 16], [11, 10, 18], [14, 13, 21], [18,...  bharatanatyam\n",
       "2  [[[20, 16, 13], [21, 17, 14], [21, 17, 14], [2...         odissi\n",
       "3  [[[25, 19, 5], [27, 21, 7], [25, 19, 5], [25, ...      kathakali\n",
       "4  [[[0, 0, 0], [0, 0, 0], [1, 1, 1], [1, 1, 1], ...         odissi"
      ]
     },
     "execution_count": 23,
     "metadata": {},
     "output_type": "execute_result"
    }
   ],
   "source": [
    "df_train.head()"
   ]
  },
  {
   "cell_type": "code",
   "execution_count": null,
   "metadata": {},
   "outputs": [],
   "source": [
    "#CONVERTING OUR INPUT SHAPE TO PIXEL FORMAT"
   ]
  },
  {
   "cell_type": "code",
   "execution_count": 24,
   "metadata": {},
   "outputs": [
    {
     "data": {
      "text/plain": [
       "(64, 64, 3)"
      ]
     },
     "execution_count": 24,
     "metadata": {},
     "output_type": "execute_result"
    }
   ],
   "source": [
    "df_train[\"Image\"][65].shape"
   ]
  },
  {
   "cell_type": "markdown",
   "metadata": {},
   "source": [
    "# Here We Can See The Dimension Of Our Input Image \n",
    "# Here (64,64) Are The Height And Width Of Image And 3 Stands For Coloured Picture(RGB)."
   ]
  },
  {
   "cell_type": "code",
   "execution_count": null,
   "metadata": {},
   "outputs": [],
   "source": [
    "#SAVE THIS PREPROCESSED DATASET INTO ANOTHER CSV FOR FUTURE PURPOSE\n"
   ]
  },
  {
   "cell_type": "code",
   "execution_count": 25,
   "metadata": {},
   "outputs": [],
   "source": [
    "df_train.to_csv(\"Preprocessed.csv\",index=False)"
   ]
  },
  {
   "cell_type": "markdown",
   "metadata": {},
   "source": [
    "# WE HAVE PREPROCESSED OUR DATA"
   ]
  },
  {
   "cell_type": "markdown",
   "metadata": {},
   "source": [
    "# LETS RESHAPE THEM INTO 4D TENSORS AS THEY REQUIRED FOR INPUT IN KERAS"
   ]
  },
  {
   "cell_type": "code",
   "execution_count": 26,
   "metadata": {},
   "outputs": [],
   "source": [
    "y_train=df_train[\"target\"]"
   ]
  },
  {
   "cell_type": "code",
   "execution_count": 27,
   "metadata": {},
   "outputs": [
    {
     "data": {
      "text/plain": [
       "0           manipuri\n",
       "1      bharatanatyam\n",
       "2             odissi\n",
       "3          kathakali\n",
       "4             odissi\n",
       "5             kathak\n",
       "6           sattriya\n",
       "7          kuchipudi\n",
       "8           sattriya\n",
       "9          kuchipudi\n",
       "10         kuchipudi\n",
       "11         kuchipudi\n",
       "12            kathak\n",
       "13          sattriya\n",
       "14         kathakali\n",
       "15            odissi\n",
       "16          sattriya\n",
       "17         kuchipudi\n",
       "18          manipuri\n",
       "19            kathak\n",
       "20          manipuri\n",
       "21     bharatanatyam\n",
       "22         kuchipudi\n",
       "23         kuchipudi\n",
       "24      mohiniyattam\n",
       "25            odissi\n",
       "26            kathak\n",
       "27            odissi\n",
       "28            odissi\n",
       "29          sattriya\n",
       "           ...      \n",
       "334           kathak\n",
       "335     mohiniyattam\n",
       "336         manipuri\n",
       "337    bharatanatyam\n",
       "338     mohiniyattam\n",
       "339           odissi\n",
       "340        kathakali\n",
       "341           odissi\n",
       "342         manipuri\n",
       "343        kuchipudi\n",
       "344           odissi\n",
       "345    bharatanatyam\n",
       "346         manipuri\n",
       "347           kathak\n",
       "348     mohiniyattam\n",
       "349           kathak\n",
       "350        kuchipudi\n",
       "351           kathak\n",
       "352     mohiniyattam\n",
       "353           odissi\n",
       "354    bharatanatyam\n",
       "355           kathak\n",
       "356           kathak\n",
       "357        kathakali\n",
       "358           odissi\n",
       "359         manipuri\n",
       "360     mohiniyattam\n",
       "361        kuchipudi\n",
       "362         manipuri\n",
       "363     mohiniyattam\n",
       "Name: target, Length: 364, dtype: object"
      ]
     },
     "execution_count": 27,
     "metadata": {},
     "output_type": "execute_result"
    }
   ],
   "source": [
    "y_train"
   ]
  },
  {
   "cell_type": "code",
   "execution_count": 46,
   "metadata": {},
   "outputs": [],
   "source": [
    "X_train=df_train[\"Image\"]"
   ]
  },
  {
   "cell_type": "code",
   "execution_count": 47,
   "metadata": {},
   "outputs": [
    {
     "name": "stdout",
     "output_type": "stream",
     "text": [
      "<class 'pandas.core.series.Series'>\n"
     ]
    }
   ],
   "source": [
    "print(type(X_train))"
   ]
  },
  {
   "cell_type": "code",
   "execution_count": 48,
   "metadata": {},
   "outputs": [],
   "source": [
    "for i in range(df_train[\"Image\"].shape[0]):\n",
    "    X_train[i]=X_train[i].reshape(1,64,64,3)"
   ]
  },
  {
   "cell_type": "markdown",
   "metadata": {},
   "source": [
    "# DEFINING THE MODEL"
   ]
  },
  {
   "cell_type": "code",
   "execution_count": 50,
   "metadata": {},
   "outputs": [],
   "source": [
    "clf=Sequential()"
   ]
  },
  {
   "cell_type": "code",
   "execution_count": 51,
   "metadata": {},
   "outputs": [],
   "source": [
    "clf.add(Conv2D(64,kernel_size=(3,3),input_shape=(64,64,3),activation='relu'))\n",
    "clf.add(MaxPool2D(pool_size=(2,2)))\n",
    "clf.add(Conv2D(32,kernel_size=(3,3),activation='relu'))\n",
    "clf.add(MaxPool2D(2,2))\n",
    "clf.add(Flatten())\n",
    "clf.add(Dense(units=128,activation='relu'))\n",
    "clf.add(Dropout(rate=0.2))\n",
    "clf.add(Dense(8,activation='softmax'))"
   ]
  },
  {
   "cell_type": "code",
   "execution_count": 52,
   "metadata": {},
   "outputs": [
    {
     "name": "stdout",
     "output_type": "stream",
     "text": [
      "Model: \"sequential_5\"\n",
      "_________________________________________________________________\n",
      "Layer (type)                 Output Shape              Param #   \n",
      "=================================================================\n",
      "conv2d_8 (Conv2D)            (None, 126, 126, 64)      1792      \n",
      "_________________________________________________________________\n",
      "max_pooling2d_8 (MaxPooling2 (None, 63, 63, 64)        0         \n",
      "_________________________________________________________________\n",
      "conv2d_9 (Conv2D)            (None, 61, 61, 32)        18464     \n",
      "_________________________________________________________________\n",
      "max_pooling2d_9 (MaxPooling2 (None, 30, 30, 32)        0         \n",
      "_________________________________________________________________\n",
      "flatten_4 (Flatten)          (None, 28800)             0         \n",
      "_________________________________________________________________\n",
      "dense_8 (Dense)              (None, 128)               3686528   \n",
      "_________________________________________________________________\n",
      "dropout_5 (Dropout)          (None, 128)               0         \n",
      "_________________________________________________________________\n",
      "dense_9 (Dense)              (None, 8)                 1032      \n",
      "=================================================================\n",
      "Total params: 3,707,816\n",
      "Trainable params: 3,707,816\n",
      "Non-trainable params: 0\n",
      "_________________________________________________________________\n"
     ]
    }
   ],
   "source": [
    "clf.summary()"
   ]
  },
  {
   "cell_type": "code",
   "execution_count": 53,
   "metadata": {},
   "outputs": [],
   "source": [
    "clf.compile(optimizer='adam',loss='categorical_crossentropy',metrics=['accuracy'])"
   ]
  },
  {
   "cell_type": "markdown",
   "metadata": {},
   "source": [
    "# Making X_train and y_train as reauired for our Classifier"
   ]
  },
  {
   "cell_type": "code",
   "execution_count": 38,
   "metadata": {},
   "outputs": [],
   "source": [
    "from sklearn.preprocessing  import LabelEncoder\n",
    "lb=LabelEncoder()\n"
   ]
  },
  {
   "cell_type": "code",
   "execution_count": 41,
   "metadata": {},
   "outputs": [],
   "source": [
    "y_train_scaled=lb.fit_transform(y_train_scaled)"
   ]
  },
  {
   "cell_type": "code",
   "execution_count": 36,
   "metadata": {},
   "outputs": [
    {
     "data": {
      "text/plain": [
       "array([4, 0, 6, 2, 6, 1, 7, 3, 7, 3, 3, 3, 1, 7, 2, 6, 7, 3, 4, 1, 4, 0,\n",
       "       3, 3, 5, 6, 1, 6, 6, 7, 2, 1, 2, 7, 0, 1, 0, 2, 6, 6, 6, 3, 4, 5,\n",
       "       5, 6, 1, 4, 1, 5, 6, 7, 7, 6, 3, 7, 5, 4, 7, 1, 6, 7, 4, 2, 7, 2,\n",
       "       4, 0, 1, 1, 7, 0, 2, 1, 5, 4, 1, 3, 6, 3, 0, 3, 0, 7, 1, 3, 5, 4,\n",
       "       5, 0, 6, 3, 6, 3, 0, 5, 0, 0, 7, 1, 2, 5, 7, 0, 6, 1, 7, 7, 3, 6,\n",
       "       1, 4, 2, 0, 5, 2, 3, 4, 5, 0, 5, 1, 2, 3, 0, 5, 0, 5, 2, 0, 5, 0,\n",
       "       4, 4, 7, 5, 7, 0, 6, 5, 6, 5, 2, 6, 7, 0, 5, 6, 7, 4, 7, 7, 1, 6,\n",
       "       2, 0, 5, 1, 3, 4, 7, 2, 5, 2, 1, 7, 5, 0, 0, 3, 6, 1, 6, 3, 5, 3,\n",
       "       6, 7, 0, 0, 2, 6, 5, 4, 6, 2, 5, 5, 3, 1, 5, 4, 6, 6, 3, 2, 0, 2,\n",
       "       5, 0, 2, 5, 6, 4, 3, 0, 7, 3, 2, 5, 2, 7, 5, 1, 3, 5, 3, 7, 5, 1,\n",
       "       5, 7, 6, 1, 1, 2, 5, 5, 7, 1, 0, 1, 4, 2, 7, 4, 3, 4, 1, 0, 1, 3,\n",
       "       2, 2, 6, 3, 0, 2, 3, 2, 6, 0, 7, 7, 1, 0, 6, 7, 0, 6, 7, 5, 2, 2,\n",
       "       3, 3, 6, 4, 6, 7, 1, 6, 4, 0, 3, 0, 7, 5, 4, 0, 2, 5, 0, 1, 2, 3,\n",
       "       0, 2, 5, 2, 3, 7, 7, 5, 2, 7, 7, 3, 4, 2, 4, 4, 2, 2, 5, 3, 6, 7,\n",
       "       0, 0, 1, 1, 3, 4, 2, 5, 2, 2, 3, 6, 6, 7, 4, 3, 6, 1, 2, 4, 2, 1,\n",
       "       0, 6, 0, 3, 1, 5, 4, 0, 5, 6, 2, 6, 4, 3, 6, 0, 4, 1, 5, 1, 3, 1,\n",
       "       5, 6, 0, 1, 1, 2, 6, 4, 5, 3, 4, 5])"
      ]
     },
     "execution_count": 36,
     "metadata": {},
     "output_type": "execute_result"
    }
   ],
   "source": [
    "y_train"
   ]
  },
  {
   "cell_type": "code",
   "execution_count": 42,
   "metadata": {},
   "outputs": [],
   "source": [
    "from keras.utils import to_categorical\n",
    "y_train_scaled = to_categorical(y_train_scaled)"
   ]
  },
  {
   "cell_type": "code",
   "execution_count": 43,
   "metadata": {},
   "outputs": [
    {
     "data": {
      "text/plain": [
       "(364, 8)"
      ]
     },
     "execution_count": 43,
     "metadata": {},
     "output_type": "execute_result"
    }
   ],
   "source": [
    "y_train_scaled.shape"
   ]
  },
  {
   "cell_type": "markdown",
   "metadata": {},
   "source": [
    "# NOW VERTCICALLY STACKING UP OUR INPUT ARRAY"
   ]
  },
  {
   "cell_type": "code",
   "execution_count": 49,
   "metadata": {},
   "outputs": [
    {
     "data": {
      "text/plain": [
       "(1, 64, 64, 3)"
      ]
     },
     "execution_count": 49,
     "metadata": {},
     "output_type": "execute_result"
    }
   ],
   "source": [
    "X_train[0].shape"
   ]
  },
  {
   "cell_type": "code",
   "execution_count": 50,
   "metadata": {},
   "outputs": [],
   "source": [
    "stacked_array=np.vstack((X_train[0],X_train[1]))"
   ]
  },
  {
   "cell_type": "code",
   "execution_count": 51,
   "metadata": {},
   "outputs": [
    {
     "data": {
      "text/plain": [
       "(2, 64, 64, 3)"
      ]
     },
     "execution_count": 51,
     "metadata": {},
     "output_type": "execute_result"
    }
   ],
   "source": [
    "stacked_array.shape\n"
   ]
  },
  {
   "cell_type": "code",
   "execution_count": 52,
   "metadata": {},
   "outputs": [],
   "source": [
    "#CONTINUING THIS WORK IN LOOP"
   ]
  },
  {
   "cell_type": "code",
   "execution_count": 53,
   "metadata": {},
   "outputs": [],
   "source": [
    "for i in range(2,df_train.shape[0]):\n",
    "    stacked_array=np.vstack((stacked_array,X_train[i]))"
   ]
  },
  {
   "cell_type": "code",
   "execution_count": 54,
   "metadata": {},
   "outputs": [
    {
     "data": {
      "text/plain": [
       "(364, 64, 64, 3)"
      ]
     },
     "execution_count": 54,
     "metadata": {},
     "output_type": "execute_result"
    }
   ],
   "source": [
    "stacked_array.shape"
   ]
  },
  {
   "cell_type": "markdown",
   "metadata": {},
   "source": [
    "#  We have Processed Out X_train and y_train to Feed them into the network"
   ]
  },
  {
   "cell_type": "code",
   "execution_count": 55,
   "metadata": {},
   "outputs": [
    {
     "name": "stdout",
     "output_type": "stream",
     "text": [
      "Epoch 1/12\n",
      "364/364 [==============================] - 4s 10ms/step - loss: 29.1118 - accuracy: 0.1676\n",
      "Epoch 2/12\n",
      "364/364 [==============================] - 3s 7ms/step - loss: 1.9777 - accuracy: 0.2582\n",
      "Epoch 3/12\n",
      "364/364 [==============================] - 2s 7ms/step - loss: 1.6763 - accuracy: 0.4396\n",
      "Epoch 4/12\n",
      "364/364 [==============================] - 3s 7ms/step - loss: 1.1785 - accuracy: 0.6126\n",
      "Epoch 5/12\n",
      "364/364 [==============================] - 3s 8ms/step - loss: 0.7365 - accuracy: 0.7500\n",
      "Epoch 6/12\n",
      "364/364 [==============================] - 3s 7ms/step - loss: 0.4614 - accuracy: 0.8434\n",
      "Epoch 7/12\n",
      "364/364 [==============================] - 2s 7ms/step - loss: 0.3264 - accuracy: 0.9011\n",
      "Epoch 8/12\n",
      "364/364 [==============================] - 3s 7ms/step - loss: 0.3184 - accuracy: 0.8901\n",
      "Epoch 9/12\n",
      "364/364 [==============================] - 3s 7ms/step - loss: 0.2064 - accuracy: 0.9258\n",
      "Epoch 10/12\n",
      "364/364 [==============================] - 3s 7ms/step - loss: 0.2069 - accuracy: 0.9423\n",
      "Epoch 11/12\n",
      "364/364 [==============================] - 3s 8ms/step - loss: 0.1741 - accuracy: 0.9533\n",
      "Epoch 12/12\n",
      "364/364 [==============================] - 3s 7ms/step - loss: 0.1679 - accuracy: 0.9670\n"
     ]
    },
    {
     "data": {
      "text/plain": [
       "<keras.callbacks.callbacks.History at 0x7f7e54159f60>"
      ]
     },
     "execution_count": 55,
     "metadata": {},
     "output_type": "execute_result"
    }
   ],
   "source": [
    "clf.fit(stacked_array,y_train,epochs=12)"
   ]
  },
  {
   "cell_type": "markdown",
   "metadata": {},
   "source": [
    "# Checking The Classes"
   ]
  },
  {
   "cell_type": "code",
   "execution_count": 88,
   "metadata": {},
   "outputs": [],
   "source": [
    "classes=lb.classes_"
   ]
  },
  {
   "cell_type": "code",
   "execution_count": 57,
   "metadata": {},
   "outputs": [
    {
     "data": {
      "text/plain": [
       "array(['bharatanatyam', 'kathak', 'kathakali', 'kuchipudi', 'manipuri',\n",
       "       'mohiniyattam', 'odissi', 'sattriya'], dtype=object)"
      ]
     },
     "execution_count": 57,
     "metadata": {},
     "output_type": "execute_result"
    }
   ],
   "source": [
    "classes"
   ]
  },
  {
   "cell_type": "markdown",
   "metadata": {},
   "source": [
    "# NOW MAKING PREDICTIONS"
   ]
  },
  {
   "cell_type": "code",
   "execution_count": 58,
   "metadata": {},
   "outputs": [],
   "source": [
    "from keras.preprocessing import image\n",
    "test_image=image.load_img('test/198.jpg',target_size=(64,64))\n",
    "test_image=image.img_to_array(test_image)\n",
    "test_image=np.expand_dims(test_image,axis=0)\n",
    "\n"
   ]
  },
  {
   "cell_type": "code",
   "execution_count": 59,
   "metadata": {},
   "outputs": [
    {
     "data": {
      "text/plain": [
       "array([3])"
      ]
     },
     "execution_count": 59,
     "metadata": {},
     "output_type": "execute_result"
    }
   ],
   "source": [
    "clf.predict_classes(test_image)"
   ]
  },
  {
   "cell_type": "code",
   "execution_count": 60,
   "metadata": {},
   "outputs": [
    {
     "name": "stdout",
     "output_type": "stream",
     "text": [
      "The Prediceted Dance Form is kuchipudi\n"
     ]
    }
   ],
   "source": [
    "print(\"The Prediceted Dance Form is {}\".format(classes[3]))"
   ]
  },
  {
   "cell_type": "markdown",
   "metadata": {},
   "source": [
    "# MAKING SUBMISSION FILE"
   ]
  },
  {
   "cell_type": "code",
   "execution_count": 61,
   "metadata": {},
   "outputs": [
    {
     "data": {
      "text/html": [
       "<div>\n",
       "<style scoped>\n",
       "    .dataframe tbody tr th:only-of-type {\n",
       "        vertical-align: middle;\n",
       "    }\n",
       "\n",
       "    .dataframe tbody tr th {\n",
       "        vertical-align: top;\n",
       "    }\n",
       "\n",
       "    .dataframe thead th {\n",
       "        text-align: right;\n",
       "    }\n",
       "</style>\n",
       "<table border=\"1\" class=\"dataframe\">\n",
       "  <thead>\n",
       "    <tr style=\"text-align: right;\">\n",
       "      <th></th>\n",
       "      <th>Image</th>\n",
       "    </tr>\n",
       "  </thead>\n",
       "  <tbody>\n",
       "    <tr>\n",
       "      <th>0</th>\n",
       "      <td>508.jpg</td>\n",
       "    </tr>\n",
       "    <tr>\n",
       "      <th>1</th>\n",
       "      <td>246.jpg</td>\n",
       "    </tr>\n",
       "    <tr>\n",
       "      <th>2</th>\n",
       "      <td>473.jpg</td>\n",
       "    </tr>\n",
       "    <tr>\n",
       "      <th>3</th>\n",
       "      <td>485.jpg</td>\n",
       "    </tr>\n",
       "    <tr>\n",
       "      <th>4</th>\n",
       "      <td>128.jpg</td>\n",
       "    </tr>\n",
       "  </tbody>\n",
       "</table>\n",
       "</div>"
      ],
      "text/plain": [
       "     Image\n",
       "0  508.jpg\n",
       "1  246.jpg\n",
       "2  473.jpg\n",
       "3  485.jpg\n",
       "4  128.jpg"
      ]
     },
     "execution_count": 61,
     "metadata": {},
     "output_type": "execute_result"
    }
   ],
   "source": [
    "df_test.head()"
   ]
  },
  {
   "cell_type": "markdown",
   "metadata": {},
   "source": [
    "# Preprocessing The Test File For Making Predictions"
   ]
  },
  {
   "cell_type": "code",
   "execution_count": 62,
   "metadata": {},
   "outputs": [],
   "source": [
    "for i in range(df_test.shape[0]):\n",
    "    k=df_test[\"Image\"][i]\n",
    "    df_test[\"Image\"][i]=Image.open('test/{}'.format(k))\n",
    "    "
   ]
  },
  {
   "cell_type": "code",
   "execution_count": 80,
   "metadata": {},
   "outputs": [
    {
     "data": {
      "text/plain": [
       "'246.jpg'"
      ]
     },
     "execution_count": 80,
     "metadata": {},
     "output_type": "execute_result"
    }
   ],
   "source": [
    "df_test[\"Image\"][1]"
   ]
  },
  {
   "cell_type": "code",
   "execution_count": 68,
   "metadata": {},
   "outputs": [],
   "source": [
    "for i in range(df_test.shape[0]):\n",
    "    k=df_test[\"Image\"][i]\n",
    "    df_test[\"Image\"][i]=k.resize((64,64))\n",
    "    "
   ]
  },
  {
   "cell_type": "code",
   "execution_count": 81,
   "metadata": {},
   "outputs": [],
   "source": [
    "im1=Image.open('test/246.jpg')"
   ]
  },
  {
   "cell_type": "code",
   "execution_count": 82,
   "metadata": {},
   "outputs": [],
   "source": [
    "df_test[\"Image\"][1]=im1.resize((64,64))"
   ]
  },
  {
   "cell_type": "code",
   "execution_count": 83,
   "metadata": {},
   "outputs": [
    {
     "data": {
      "text/html": [
       "<div>\n",
       "<style scoped>\n",
       "    .dataframe tbody tr th:only-of-type {\n",
       "        vertical-align: middle;\n",
       "    }\n",
       "\n",
       "    .dataframe tbody tr th {\n",
       "        vertical-align: top;\n",
       "    }\n",
       "\n",
       "    .dataframe thead th {\n",
       "        text-align: right;\n",
       "    }\n",
       "</style>\n",
       "<table border=\"1\" class=\"dataframe\">\n",
       "  <thead>\n",
       "    <tr style=\"text-align: right;\">\n",
       "      <th></th>\n",
       "      <th>Image</th>\n",
       "    </tr>\n",
       "  </thead>\n",
       "  <tbody>\n",
       "    <tr>\n",
       "      <th>0</th>\n",
       "      <td>&lt;PIL.Image.Image image mode=RGB size=64x64 at ...</td>\n",
       "    </tr>\n",
       "    <tr>\n",
       "      <th>1</th>\n",
       "      <td>&lt;PIL.Image.Image image mode=RGB size=64x64 at ...</td>\n",
       "    </tr>\n",
       "    <tr>\n",
       "      <th>2</th>\n",
       "      <td>&lt;PIL.Image.Image image mode=RGB size=64x64 at ...</td>\n",
       "    </tr>\n",
       "    <tr>\n",
       "      <th>3</th>\n",
       "      <td>&lt;PIL.Image.Image image mode=RGB size=64x64 at ...</td>\n",
       "    </tr>\n",
       "    <tr>\n",
       "      <th>4</th>\n",
       "      <td>&lt;PIL.Image.Image image mode=RGB size=64x64 at ...</td>\n",
       "    </tr>\n",
       "  </tbody>\n",
       "</table>\n",
       "</div>"
      ],
      "text/plain": [
       "                                               Image\n",
       "0  <PIL.Image.Image image mode=RGB size=64x64 at ...\n",
       "1  <PIL.Image.Image image mode=RGB size=64x64 at ...\n",
       "2  <PIL.Image.Image image mode=RGB size=64x64 at ...\n",
       "3  <PIL.Image.Image image mode=RGB size=64x64 at ...\n",
       "4  <PIL.Image.Image image mode=RGB size=64x64 at ..."
      ]
     },
     "execution_count": 83,
     "metadata": {},
     "output_type": "execute_result"
    }
   ],
   "source": [
    "df_test.head()"
   ]
  },
  {
   "cell_type": "code",
   "execution_count": 84,
   "metadata": {},
   "outputs": [],
   "source": [
    "for i in range(df_test.shape[0]):\n",
    "    k=df_test[\"Image\"][i]\n",
    "    df_test[\"Image\"][i]=np.array(k)\n",
    "    "
   ]
  },
  {
   "cell_type": "code",
   "execution_count": 85,
   "metadata": {},
   "outputs": [
    {
     "data": {
      "text/html": [
       "<div>\n",
       "<style scoped>\n",
       "    .dataframe tbody tr th:only-of-type {\n",
       "        vertical-align: middle;\n",
       "    }\n",
       "\n",
       "    .dataframe tbody tr th {\n",
       "        vertical-align: top;\n",
       "    }\n",
       "\n",
       "    .dataframe thead th {\n",
       "        text-align: right;\n",
       "    }\n",
       "</style>\n",
       "<table border=\"1\" class=\"dataframe\">\n",
       "  <thead>\n",
       "    <tr style=\"text-align: right;\">\n",
       "      <th></th>\n",
       "      <th>Image</th>\n",
       "    </tr>\n",
       "  </thead>\n",
       "  <tbody>\n",
       "    <tr>\n",
       "      <th>0</th>\n",
       "      <td>[[[2, 0, 13], [2, 0, 13], [2, 1, 9], [2, 1, 6]...</td>\n",
       "    </tr>\n",
       "    <tr>\n",
       "      <th>1</th>\n",
       "      <td>[[[0, 2, 5], [0, 0, 12], [0, 0, 13], [1, 1, 11...</td>\n",
       "    </tr>\n",
       "    <tr>\n",
       "      <th>2</th>\n",
       "      <td>[[[1, 3, 0], [1, 3, 0], [1, 3, 0], [1, 3, 0], ...</td>\n",
       "    </tr>\n",
       "    <tr>\n",
       "      <th>3</th>\n",
       "      <td>[[[1, 0, 0], [0, 1, 0], [0, 2, 0], [0, 0, 0], ...</td>\n",
       "    </tr>\n",
       "    <tr>\n",
       "      <th>4</th>\n",
       "      <td>[[[0, 0, 0], [0, 0, 0], [0, 0, 0], [0, 0, 0], ...</td>\n",
       "    </tr>\n",
       "  </tbody>\n",
       "</table>\n",
       "</div>"
      ],
      "text/plain": [
       "                                               Image\n",
       "0  [[[2, 0, 13], [2, 0, 13], [2, 1, 9], [2, 1, 6]...\n",
       "1  [[[0, 2, 5], [0, 0, 12], [0, 0, 13], [1, 1, 11...\n",
       "2  [[[1, 3, 0], [1, 3, 0], [1, 3, 0], [1, 3, 0], ...\n",
       "3  [[[1, 0, 0], [0, 1, 0], [0, 2, 0], [0, 0, 0], ...\n",
       "4  [[[0, 0, 0], [0, 0, 0], [0, 0, 0], [0, 0, 0], ..."
      ]
     },
     "execution_count": 85,
     "metadata": {},
     "output_type": "execute_result"
    }
   ],
   "source": [
    "df_test.head()"
   ]
  },
  {
   "cell_type": "markdown",
   "metadata": {},
   "source": [
    "# Let's Try predict a random image for given dimension\n"
   ]
  },
  {
   "cell_type": "code",
   "execution_count": 86,
   "metadata": {},
   "outputs": [
    {
     "ename": "ValueError",
     "evalue": "Error when checking input: expected conv2d_1_input to have 4 dimensions, but got array with shape (64, 64, 3)",
     "output_type": "error",
     "traceback": [
      "\u001b[0;31m---------------------------------------------------------------------------\u001b[0m",
      "\u001b[0;31mValueError\u001b[0m                                Traceback (most recent call last)",
      "\u001b[0;32m<ipython-input-86-2774a26a2dfc>\u001b[0m in \u001b[0;36m<module>\u001b[0;34m\u001b[0m\n\u001b[0;32m----> 1\u001b[0;31m \u001b[0mpre\u001b[0m\u001b[0;34m=\u001b[0m\u001b[0mclf\u001b[0m\u001b[0;34m.\u001b[0m\u001b[0mpredict_classes\u001b[0m\u001b[0;34m(\u001b[0m\u001b[0mdf_test\u001b[0m\u001b[0;34m[\u001b[0m\u001b[0;34m\"Image\"\u001b[0m\u001b[0;34m]\u001b[0m\u001b[0;34m[\u001b[0m\u001b[0;36m23\u001b[0m\u001b[0;34m]\u001b[0m\u001b[0;34m)\u001b[0m\u001b[0;34m\u001b[0m\u001b[0;34m\u001b[0m\u001b[0m\n\u001b[0m",
      "\u001b[0;32m~/anaconda3/lib/python3.7/site-packages/keras/engine/sequential.py\u001b[0m in \u001b[0;36mpredict_classes\u001b[0;34m(self, x, batch_size, verbose)\u001b[0m\n\u001b[1;32m    266\u001b[0m             \u001b[0mA\u001b[0m \u001b[0mnumpy\u001b[0m \u001b[0marray\u001b[0m \u001b[0mof\u001b[0m \u001b[0;32mclass\u001b[0m \u001b[0mpredictions\u001b[0m\u001b[0;34m.\u001b[0m\u001b[0;34m\u001b[0m\u001b[0;34m\u001b[0m\u001b[0m\n\u001b[1;32m    267\u001b[0m         \"\"\"\n\u001b[0;32m--> 268\u001b[0;31m         \u001b[0mproba\u001b[0m \u001b[0;34m=\u001b[0m \u001b[0mself\u001b[0m\u001b[0;34m.\u001b[0m\u001b[0mpredict\u001b[0m\u001b[0;34m(\u001b[0m\u001b[0mx\u001b[0m\u001b[0;34m,\u001b[0m \u001b[0mbatch_size\u001b[0m\u001b[0;34m=\u001b[0m\u001b[0mbatch_size\u001b[0m\u001b[0;34m,\u001b[0m \u001b[0mverbose\u001b[0m\u001b[0;34m=\u001b[0m\u001b[0mverbose\u001b[0m\u001b[0;34m)\u001b[0m\u001b[0;34m\u001b[0m\u001b[0;34m\u001b[0m\u001b[0m\n\u001b[0m\u001b[1;32m    269\u001b[0m         \u001b[0;32mif\u001b[0m \u001b[0mproba\u001b[0m\u001b[0;34m.\u001b[0m\u001b[0mshape\u001b[0m\u001b[0;34m[\u001b[0m\u001b[0;34m-\u001b[0m\u001b[0;36m1\u001b[0m\u001b[0;34m]\u001b[0m \u001b[0;34m>\u001b[0m \u001b[0;36m1\u001b[0m\u001b[0;34m:\u001b[0m\u001b[0;34m\u001b[0m\u001b[0;34m\u001b[0m\u001b[0m\n\u001b[1;32m    270\u001b[0m             \u001b[0;32mreturn\u001b[0m \u001b[0mproba\u001b[0m\u001b[0;34m.\u001b[0m\u001b[0margmax\u001b[0m\u001b[0;34m(\u001b[0m\u001b[0maxis\u001b[0m\u001b[0;34m=\u001b[0m\u001b[0;34m-\u001b[0m\u001b[0;36m1\u001b[0m\u001b[0;34m)\u001b[0m\u001b[0;34m\u001b[0m\u001b[0;34m\u001b[0m\u001b[0m\n",
      "\u001b[0;32m~/anaconda3/lib/python3.7/site-packages/keras/engine/training.py\u001b[0m in \u001b[0;36mpredict\u001b[0;34m(self, x, batch_size, verbose, steps, callbacks, max_queue_size, workers, use_multiprocessing)\u001b[0m\n\u001b[1;32m   1439\u001b[0m \u001b[0;34m\u001b[0m\u001b[0m\n\u001b[1;32m   1440\u001b[0m         \u001b[0;31m# Case 2: Symbolic tensors or Numpy array-like.\u001b[0m\u001b[0;34m\u001b[0m\u001b[0;34m\u001b[0m\u001b[0;34m\u001b[0m\u001b[0m\n\u001b[0;32m-> 1441\u001b[0;31m         \u001b[0mx\u001b[0m\u001b[0;34m,\u001b[0m \u001b[0m_\u001b[0m\u001b[0;34m,\u001b[0m \u001b[0m_\u001b[0m \u001b[0;34m=\u001b[0m \u001b[0mself\u001b[0m\u001b[0;34m.\u001b[0m\u001b[0m_standardize_user_data\u001b[0m\u001b[0;34m(\u001b[0m\u001b[0mx\u001b[0m\u001b[0;34m)\u001b[0m\u001b[0;34m\u001b[0m\u001b[0;34m\u001b[0m\u001b[0m\n\u001b[0m\u001b[1;32m   1442\u001b[0m         \u001b[0;32mif\u001b[0m \u001b[0mself\u001b[0m\u001b[0;34m.\u001b[0m\u001b[0mstateful\u001b[0m\u001b[0;34m:\u001b[0m\u001b[0;34m\u001b[0m\u001b[0;34m\u001b[0m\u001b[0m\n\u001b[1;32m   1443\u001b[0m             \u001b[0;32mif\u001b[0m \u001b[0mx\u001b[0m\u001b[0;34m[\u001b[0m\u001b[0;36m0\u001b[0m\u001b[0;34m]\u001b[0m\u001b[0;34m.\u001b[0m\u001b[0mshape\u001b[0m\u001b[0;34m[\u001b[0m\u001b[0;36m0\u001b[0m\u001b[0;34m]\u001b[0m \u001b[0;34m>\u001b[0m \u001b[0mbatch_size\u001b[0m \u001b[0;32mand\u001b[0m \u001b[0mx\u001b[0m\u001b[0;34m[\u001b[0m\u001b[0;36m0\u001b[0m\u001b[0;34m]\u001b[0m\u001b[0;34m.\u001b[0m\u001b[0mshape\u001b[0m\u001b[0;34m[\u001b[0m\u001b[0;36m0\u001b[0m\u001b[0;34m]\u001b[0m \u001b[0;34m%\u001b[0m \u001b[0mbatch_size\u001b[0m \u001b[0;34m!=\u001b[0m \u001b[0;36m0\u001b[0m\u001b[0;34m:\u001b[0m\u001b[0;34m\u001b[0m\u001b[0;34m\u001b[0m\u001b[0m\n",
      "\u001b[0;32m~/anaconda3/lib/python3.7/site-packages/keras/engine/training.py\u001b[0m in \u001b[0;36m_standardize_user_data\u001b[0;34m(self, x, y, sample_weight, class_weight, check_array_lengths, batch_size)\u001b[0m\n\u001b[1;32m    577\u001b[0m             \u001b[0mfeed_input_shapes\u001b[0m\u001b[0;34m,\u001b[0m\u001b[0;34m\u001b[0m\u001b[0;34m\u001b[0m\u001b[0m\n\u001b[1;32m    578\u001b[0m             \u001b[0mcheck_batch_axis\u001b[0m\u001b[0;34m=\u001b[0m\u001b[0;32mFalse\u001b[0m\u001b[0;34m,\u001b[0m  \u001b[0;31m# Don't enforce the batch size.\u001b[0m\u001b[0;34m\u001b[0m\u001b[0;34m\u001b[0m\u001b[0m\n\u001b[0;32m--> 579\u001b[0;31m             exception_prefix='input')\n\u001b[0m\u001b[1;32m    580\u001b[0m \u001b[0;34m\u001b[0m\u001b[0m\n\u001b[1;32m    581\u001b[0m         \u001b[0;32mif\u001b[0m \u001b[0my\u001b[0m \u001b[0;32mis\u001b[0m \u001b[0;32mnot\u001b[0m \u001b[0;32mNone\u001b[0m\u001b[0;34m:\u001b[0m\u001b[0;34m\u001b[0m\u001b[0;34m\u001b[0m\u001b[0m\n",
      "\u001b[0;32m~/anaconda3/lib/python3.7/site-packages/keras/engine/training_utils.py\u001b[0m in \u001b[0;36mstandardize_input_data\u001b[0;34m(data, names, shapes, check_batch_axis, exception_prefix)\u001b[0m\n\u001b[1;32m    133\u001b[0m                         \u001b[0;34m': expected '\u001b[0m \u001b[0;34m+\u001b[0m \u001b[0mnames\u001b[0m\u001b[0;34m[\u001b[0m\u001b[0mi\u001b[0m\u001b[0;34m]\u001b[0m \u001b[0;34m+\u001b[0m \u001b[0;34m' to have '\u001b[0m \u001b[0;34m+\u001b[0m\u001b[0;34m\u001b[0m\u001b[0;34m\u001b[0m\u001b[0m\n\u001b[1;32m    134\u001b[0m                         \u001b[0mstr\u001b[0m\u001b[0;34m(\u001b[0m\u001b[0mlen\u001b[0m\u001b[0;34m(\u001b[0m\u001b[0mshape\u001b[0m\u001b[0;34m)\u001b[0m\u001b[0;34m)\u001b[0m \u001b[0;34m+\u001b[0m \u001b[0;34m' dimensions, but got array '\u001b[0m\u001b[0;34m\u001b[0m\u001b[0;34m\u001b[0m\u001b[0m\n\u001b[0;32m--> 135\u001b[0;31m                         'with shape ' + str(data_shape))\n\u001b[0m\u001b[1;32m    136\u001b[0m                 \u001b[0;32mif\u001b[0m \u001b[0;32mnot\u001b[0m \u001b[0mcheck_batch_axis\u001b[0m\u001b[0;34m:\u001b[0m\u001b[0;34m\u001b[0m\u001b[0;34m\u001b[0m\u001b[0m\n\u001b[1;32m    137\u001b[0m                     \u001b[0mdata_shape\u001b[0m \u001b[0;34m=\u001b[0m \u001b[0mdata_shape\u001b[0m\u001b[0;34m[\u001b[0m\u001b[0;36m1\u001b[0m\u001b[0;34m:\u001b[0m\u001b[0;34m]\u001b[0m\u001b[0;34m\u001b[0m\u001b[0;34m\u001b[0m\u001b[0m\n",
      "\u001b[0;31mValueError\u001b[0m: Error when checking input: expected conv2d_1_input to have 4 dimensions, but got array with shape (64, 64, 3)"
     ]
    }
   ],
   "source": [
    "pre=clf.predict_classes(df_test[\"Image\"][23])"
   ]
  },
  {
   "cell_type": "markdown",
   "metadata": {},
   "source": [
    "# WE can see that we need 4 dimenions as we have trained our classifier with 4d"
   ]
  },
  {
   "cell_type": "code",
   "execution_count": 87,
   "metadata": {},
   "outputs": [],
   "source": [
    "#Changing the dimensions\n",
    "X_test=df_test[\"Image\"]"
   ]
  },
  {
   "cell_type": "code",
   "execution_count": 88,
   "metadata": {},
   "outputs": [],
   "source": [
    "for i in range(df_test[\"Image\"].shape[0]):\n",
    "    X_test[i]=X_test[i].reshape(1,64,64,3)"
   ]
  },
  {
   "cell_type": "code",
   "execution_count": 89,
   "metadata": {},
   "outputs": [
    {
     "name": "stderr",
     "output_type": "stream",
     "text": [
      "/home/neelesh/anaconda3/lib/python3.7/site-packages/ipykernel_launcher.py:1: FutureWarning: The signature of `Series.to_csv` was aligned to that of `DataFrame.to_csv`, and argument 'header' will change its default value from False to True: please pass an explicit value to suppress this warning.\n",
      "  \"\"\"Entry point for launching an IPython kernel.\n"
     ]
    }
   ],
   "source": [
    "X_test.to_csv(\"Preprocessd_test.csv\",index=False)"
   ]
  },
  {
   "cell_type": "markdown",
   "metadata": {},
   "source": [
    "# Let's Make Predictions\n"
   ]
  },
  {
   "cell_type": "code",
   "execution_count": null,
   "metadata": {},
   "outputs": [],
   "source": [
    "l=classes[clf.predict_classes(X_test[4]).shape[0]]\n",
    "# copying the same code in a loop"
   ]
  },
  {
   "cell_type": "code",
   "execution_count": null,
   "metadata": {},
   "outputs": [],
   "source": []
  },
  {
   "cell_type": "code",
   "execution_count": 90,
   "metadata": {},
   "outputs": [],
   "source": [
    "pred=[]\n",
    "for i in range(X_test.shape[0]):\n",
    "    pred.append(classes[clf.predict_classes(X_test[i]).shape[0]])\n",
    "    "
   ]
  },
  {
   "cell_type": "code",
   "execution_count": 91,
   "metadata": {},
   "outputs": [
    {
     "data": {
      "text/plain": [
       "['kathak',\n",
       " 'kathak',\n",
       " 'kathak',\n",
       " 'kathak',\n",
       " 'kathak',\n",
       " 'kathak',\n",
       " 'kathak',\n",
       " 'kathak',\n",
       " 'kathak',\n",
       " 'kathak',\n",
       " 'kathak',\n",
       " 'kathak',\n",
       " 'kathak',\n",
       " 'kathak',\n",
       " 'kathak',\n",
       " 'kathak',\n",
       " 'kathak',\n",
       " 'kathak',\n",
       " 'kathak',\n",
       " 'kathak',\n",
       " 'kathak',\n",
       " 'kathak',\n",
       " 'kathak',\n",
       " 'kathak',\n",
       " 'kathak',\n",
       " 'kathak',\n",
       " 'kathak',\n",
       " 'kathak',\n",
       " 'kathak',\n",
       " 'kathak',\n",
       " 'kathak',\n",
       " 'kathak',\n",
       " 'kathak',\n",
       " 'kathak',\n",
       " 'kathak',\n",
       " 'kathak',\n",
       " 'kathak',\n",
       " 'kathak',\n",
       " 'kathak',\n",
       " 'kathak',\n",
       " 'kathak',\n",
       " 'kathak',\n",
       " 'kathak',\n",
       " 'kathak',\n",
       " 'kathak',\n",
       " 'kathak',\n",
       " 'kathak',\n",
       " 'kathak',\n",
       " 'kathak',\n",
       " 'kathak',\n",
       " 'kathak',\n",
       " 'kathak',\n",
       " 'kathak',\n",
       " 'kathak',\n",
       " 'kathak',\n",
       " 'kathak',\n",
       " 'kathak',\n",
       " 'kathak',\n",
       " 'kathak',\n",
       " 'kathak',\n",
       " 'kathak',\n",
       " 'kathak',\n",
       " 'kathak',\n",
       " 'kathak',\n",
       " 'kathak',\n",
       " 'kathak',\n",
       " 'kathak',\n",
       " 'kathak',\n",
       " 'kathak',\n",
       " 'kathak',\n",
       " 'kathak',\n",
       " 'kathak',\n",
       " 'kathak',\n",
       " 'kathak',\n",
       " 'kathak',\n",
       " 'kathak',\n",
       " 'kathak',\n",
       " 'kathak',\n",
       " 'kathak',\n",
       " 'kathak',\n",
       " 'kathak',\n",
       " 'kathak',\n",
       " 'kathak',\n",
       " 'kathak',\n",
       " 'kathak',\n",
       " 'kathak',\n",
       " 'kathak',\n",
       " 'kathak',\n",
       " 'kathak',\n",
       " 'kathak',\n",
       " 'kathak',\n",
       " 'kathak',\n",
       " 'kathak',\n",
       " 'kathak',\n",
       " 'kathak',\n",
       " 'kathak',\n",
       " 'kathak',\n",
       " 'kathak',\n",
       " 'kathak',\n",
       " 'kathak',\n",
       " 'kathak',\n",
       " 'kathak',\n",
       " 'kathak',\n",
       " 'kathak',\n",
       " 'kathak',\n",
       " 'kathak',\n",
       " 'kathak',\n",
       " 'kathak',\n",
       " 'kathak',\n",
       " 'kathak',\n",
       " 'kathak',\n",
       " 'kathak',\n",
       " 'kathak',\n",
       " 'kathak',\n",
       " 'kathak',\n",
       " 'kathak',\n",
       " 'kathak',\n",
       " 'kathak',\n",
       " 'kathak',\n",
       " 'kathak',\n",
       " 'kathak',\n",
       " 'kathak',\n",
       " 'kathak',\n",
       " 'kathak',\n",
       " 'kathak',\n",
       " 'kathak',\n",
       " 'kathak',\n",
       " 'kathak',\n",
       " 'kathak',\n",
       " 'kathak',\n",
       " 'kathak',\n",
       " 'kathak',\n",
       " 'kathak',\n",
       " 'kathak',\n",
       " 'kathak',\n",
       " 'kathak',\n",
       " 'kathak',\n",
       " 'kathak',\n",
       " 'kathak',\n",
       " 'kathak',\n",
       " 'kathak',\n",
       " 'kathak',\n",
       " 'kathak',\n",
       " 'kathak',\n",
       " 'kathak',\n",
       " 'kathak',\n",
       " 'kathak',\n",
       " 'kathak',\n",
       " 'kathak',\n",
       " 'kathak',\n",
       " 'kathak',\n",
       " 'kathak',\n",
       " 'kathak',\n",
       " 'kathak',\n",
       " 'kathak',\n",
       " 'kathak']"
      ]
     },
     "execution_count": 91,
     "metadata": {},
     "output_type": "execute_result"
    }
   ],
   "source": [
    "pred"
   ]
  },
  {
   "cell_type": "markdown",
   "metadata": {},
   "source": [
    "# AS YOU CAN SEE THAT THERE IS SOME SORT OF OVERFIING IN OUR MODEL"
   ]
  },
  {
   "cell_type": "markdown",
   "metadata": {},
   "source": [
    "# Let's Make Another Classfier"
   ]
  },
  {
   "cell_type": "code",
   "execution_count": 46,
   "metadata": {},
   "outputs": [],
   "source": [
    "clf2=Sequential()"
   ]
  },
  {
   "cell_type": "code",
   "execution_count": 47,
   "metadata": {},
   "outputs": [],
   "source": [
    "clf2.add(Conv2D(filters=64,kernel_size=(3,3),strides=(1,1),input_shape=(64,64,3),activation='relu'))"
   ]
  },
  {
   "cell_type": "code",
   "execution_count": 48,
   "metadata": {},
   "outputs": [],
   "source": [
    "\n",
    "clf2.add(MaxPool2D(pool_size=(2,2)))\n",
    "clf2.add(Conv2D(32,kernel_size=(3,3),activation='relu'))\n",
    "clf2.add(MaxPool2D(2,2))\n",
    "clf2.add(Flatten())\n",
    "clf2.add(Dense(units=128,activation='relu'))\n",
    "clf2.add(Dropout(rate=0.2))\n",
    "clf2.add(Dense(units=64,activation='relu'))\n",
    "clf2.add(Dropout(0.2))\n",
    "clf2.add(Dense(8,activation='softmax'))"
   ]
  },
  {
   "cell_type": "code",
   "execution_count": 49,
   "metadata": {},
   "outputs": [],
   "source": [
    "clf2.compile(optimizer='adam',loss='categorical_crossentropy',metrics=['accuracy'])"
   ]
  },
  {
   "cell_type": "code",
   "execution_count": 166,
   "metadata": {},
   "outputs": [
    {
     "name": "stdout",
     "output_type": "stream",
     "text": [
      "Epoch 1/20\n",
      "364/364 [==============================] - 3s 9ms/step - loss: 39.2442 - accuracy: 0.1346\n",
      "Epoch 2/20\n",
      "364/364 [==============================] - 2s 4ms/step - loss: 2.2079 - accuracy: 0.2308\n",
      "Epoch 3/20\n",
      "364/364 [==============================] - 2s 4ms/step - loss: 1.7664 - accuracy: 0.3407\n",
      "Epoch 4/20\n",
      "364/364 [==============================] - 2s 4ms/step - loss: 1.3252 - accuracy: 0.5467\n",
      "Epoch 5/20\n",
      "364/364 [==============================] - 2s 4ms/step - loss: 0.7994 - accuracy: 0.7500\n",
      "Epoch 6/20\n",
      "364/364 [==============================] - 2s 4ms/step - loss: 0.4778 - accuracy: 0.8434\n",
      "Epoch 7/20\n",
      "364/364 [==============================] - 2s 4ms/step - loss: 0.2960 - accuracy: 0.9093\n",
      "Epoch 8/20\n",
      "364/364 [==============================] - 2s 4ms/step - loss: 0.2087 - accuracy: 0.9505\n",
      "Epoch 9/20\n",
      "364/364 [==============================] - 2s 4ms/step - loss: 0.1851 - accuracy: 0.9478\n",
      "Epoch 10/20\n",
      "364/364 [==============================] - 2s 4ms/step - loss: 0.1538 - accuracy: 0.9533\n",
      "Epoch 11/20\n",
      "364/364 [==============================] - 2s 4ms/step - loss: 0.1327 - accuracy: 0.9780\n",
      "Epoch 12/20\n",
      "364/364 [==============================] - 2s 5ms/step - loss: 0.0790 - accuracy: 0.9808\n",
      "Epoch 13/20\n",
      "364/364 [==============================] - 2s 4ms/step - loss: 0.0500 - accuracy: 0.9863\n",
      "Epoch 14/20\n",
      "364/364 [==============================] - 2s 4ms/step - loss: 0.0490 - accuracy: 0.9918\n",
      "Epoch 15/20\n",
      "364/364 [==============================] - 2s 4ms/step - loss: 0.0731 - accuracy: 0.9808\n",
      "Epoch 16/20\n",
      "364/364 [==============================] - 2s 4ms/step - loss: 0.0514 - accuracy: 0.9890\n",
      "Epoch 17/20\n",
      "364/364 [==============================] - 2s 4ms/step - loss: 0.0436 - accuracy: 0.9835\n",
      "Epoch 18/20\n",
      "364/364 [==============================] - 2s 4ms/step - loss: 0.1024 - accuracy: 0.9890\n",
      "Epoch 19/20\n",
      "364/364 [==============================] - 2s 4ms/step - loss: 0.1330 - accuracy: 0.9725\n",
      "Epoch 20/20\n",
      "364/364 [==============================] - 2s 4ms/step - loss: 0.1245 - accuracy: 0.9698\n"
     ]
    },
    {
     "data": {
      "text/plain": [
       "<keras.callbacks.callbacks.History at 0x7f7e32037278>"
      ]
     },
     "execution_count": 166,
     "metadata": {},
     "output_type": "execute_result"
    }
   ],
   "source": [
    "clf2.fit(stacked_array,y_train,epochs=20)"
   ]
  },
  {
   "cell_type": "code",
   "execution_count": 85,
   "metadata": {},
   "outputs": [],
   "source": [
    "#created a dummy file for other purposes\n",
    "name=pd.read_csv(\"test.csv\")"
   ]
  },
  {
   "cell_type": "code",
   "execution_count": 167,
   "metadata": {},
   "outputs": [],
   "source": [
    "pred2=[]\n",
    "for i in range(X_test.shape[0]):\n",
    "    test_image=image.load_img('test/{}'.format(name[\"Image\"][i]),target_size=(64,64))\n",
    "    test_image=image.img_to_array(test_image)\n",
    "    test_image=np.expand_dims(test_image,axis=0)\n",
    "    k=clf2.predict_classes(test_image)\n",
    "    pred2.append(classes[k[0]])\n",
    "\n",
    "\n",
    "    \n",
    "    "
   ]
  },
  {
   "cell_type": "code",
   "execution_count": 168,
   "metadata": {},
   "outputs": [
    {
     "data": {
      "text/plain": [
       "['kathakali',\n",
       " 'mohiniyattam',\n",
       " 'kuchipudi',\n",
       " 'odissi',\n",
       " 'kathak',\n",
       " 'kuchipudi',\n",
       " 'mohiniyattam',\n",
       " 'odissi',\n",
       " 'kathak',\n",
       " 'kuchipudi',\n",
       " 'bharatanatyam',\n",
       " 'bharatanatyam',\n",
       " 'sattriya',\n",
       " 'bharatanatyam',\n",
       " 'sattriya',\n",
       " 'bharatanatyam',\n",
       " 'odissi',\n",
       " 'bharatanatyam',\n",
       " 'mohiniyattam',\n",
       " 'kuchipudi',\n",
       " 'odissi',\n",
       " 'kuchipudi',\n",
       " 'bharatanatyam',\n",
       " 'mohiniyattam',\n",
       " 'mohiniyattam',\n",
       " 'kathakali',\n",
       " 'kathak',\n",
       " 'kathak',\n",
       " 'kathak',\n",
       " 'bharatanatyam',\n",
       " 'sattriya',\n",
       " 'kuchipudi',\n",
       " 'manipuri',\n",
       " 'kuchipudi',\n",
       " 'kuchipudi',\n",
       " 'kuchipudi',\n",
       " 'odissi',\n",
       " 'odissi',\n",
       " 'manipuri',\n",
       " 'bharatanatyam',\n",
       " 'kathak',\n",
       " 'bharatanatyam',\n",
       " 'kuchipudi',\n",
       " 'manipuri',\n",
       " 'kuchipudi',\n",
       " 'mohiniyattam',\n",
       " 'sattriya',\n",
       " 'sattriya',\n",
       " 'kathakali',\n",
       " 'kuchipudi',\n",
       " 'kuchipudi',\n",
       " 'manipuri',\n",
       " 'kathak',\n",
       " 'kathak',\n",
       " 'odissi',\n",
       " 'kuchipudi',\n",
       " 'bharatanatyam',\n",
       " 'odissi',\n",
       " 'sattriya',\n",
       " 'kathak',\n",
       " 'kuchipudi',\n",
       " 'sattriya',\n",
       " 'kathak',\n",
       " 'kathakali',\n",
       " 'kuchipudi',\n",
       " 'kuchipudi',\n",
       " 'kathakali',\n",
       " 'kathak',\n",
       " 'odissi',\n",
       " 'bharatanatyam',\n",
       " 'kathak',\n",
       " 'kuchipudi',\n",
       " 'kuchipudi',\n",
       " 'kathak',\n",
       " 'kuchipudi',\n",
       " 'kathakali',\n",
       " 'sattriya',\n",
       " 'kuchipudi',\n",
       " 'kathakali',\n",
       " 'bharatanatyam',\n",
       " 'bharatanatyam',\n",
       " 'bharatanatyam',\n",
       " 'kathak',\n",
       " 'kuchipudi',\n",
       " 'odissi',\n",
       " 'kathak',\n",
       " 'kathak',\n",
       " 'kathak',\n",
       " 'kathak',\n",
       " 'mohiniyattam',\n",
       " 'kuchipudi',\n",
       " 'mohiniyattam',\n",
       " 'kathak',\n",
       " 'kathak',\n",
       " 'kuchipudi',\n",
       " 'odissi',\n",
       " 'kuchipudi',\n",
       " 'kuchipudi',\n",
       " 'bharatanatyam',\n",
       " 'manipuri',\n",
       " 'kathakali',\n",
       " 'kathak',\n",
       " 'kathak',\n",
       " 'odissi',\n",
       " 'bharatanatyam',\n",
       " 'kuchipudi',\n",
       " 'bharatanatyam',\n",
       " 'kuchipudi',\n",
       " 'kuchipudi',\n",
       " 'kuchipudi',\n",
       " 'kuchipudi',\n",
       " 'kathakali',\n",
       " 'kuchipudi',\n",
       " 'odissi',\n",
       " 'kuchipudi',\n",
       " 'odissi',\n",
       " 'kuchipudi',\n",
       " 'kathakali',\n",
       " 'bharatanatyam',\n",
       " 'kuchipudi',\n",
       " 'odissi',\n",
       " 'bharatanatyam',\n",
       " 'sattriya',\n",
       " 'mohiniyattam',\n",
       " 'odissi',\n",
       " 'mohiniyattam',\n",
       " 'manipuri',\n",
       " 'sattriya',\n",
       " 'kuchipudi',\n",
       " 'odissi',\n",
       " 'bharatanatyam',\n",
       " 'sattriya',\n",
       " 'bharatanatyam',\n",
       " 'kathakali',\n",
       " 'kathak',\n",
       " 'kathak',\n",
       " 'kuchipudi',\n",
       " 'mohiniyattam',\n",
       " 'kathak',\n",
       " 'kathak',\n",
       " 'sattriya',\n",
       " 'kathak',\n",
       " 'kuchipudi',\n",
       " 'kuchipudi',\n",
       " 'kuchipudi',\n",
       " 'manipuri',\n",
       " 'kuchipudi',\n",
       " 'sattriya',\n",
       " 'manipuri',\n",
       " 'mohiniyattam',\n",
       " 'mohiniyattam',\n",
       " 'sattriya',\n",
       " 'kathakali',\n",
       " 'kathak',\n",
       " 'odissi',\n",
       " 'sattriya']"
      ]
     },
     "execution_count": 168,
     "metadata": {},
     "output_type": "execute_result"
    }
   ],
   "source": [
    "pred2"
   ]
  },
  {
   "cell_type": "code",
   "execution_count": 151,
   "metadata": {},
   "outputs": [],
   "source": [
    "pred=[]\n",
    "for i in range(X_test.shape[0]):\n",
    "    test_image=image.load_img('test/{}'.format(name[\"Image\"][i]),target_size=(64,64))\n",
    "    test_image=image.img_to_array(test_image)\n",
    "    test_image=np.expand_dims(test_image,axis=0)\n",
    "    k=clf.predict_classes(test_image)\n",
    "    pred.append(classes[k[0]])\n",
    "\n",
    "\n",
    "    \n",
    "    "
   ]
  },
  {
   "cell_type": "code",
   "execution_count": 152,
   "metadata": {},
   "outputs": [
    {
     "data": {
      "text/plain": [
       "['bharatanatyam',\n",
       " 'mohiniyattam',\n",
       " 'bharatanatyam',\n",
       " 'odissi',\n",
       " 'kathakali',\n",
       " 'kuchipudi',\n",
       " 'mohiniyattam',\n",
       " 'kathakali',\n",
       " 'kuchipudi',\n",
       " 'odissi',\n",
       " 'kathakali',\n",
       " 'bharatanatyam',\n",
       " 'sattriya',\n",
       " 'kathakali',\n",
       " 'sattriya',\n",
       " 'kuchipudi',\n",
       " 'odissi',\n",
       " 'bharatanatyam',\n",
       " 'mohiniyattam',\n",
       " 'odissi',\n",
       " 'mohiniyattam',\n",
       " 'kathakali',\n",
       " 'mohiniyattam',\n",
       " 'odissi',\n",
       " 'mohiniyattam',\n",
       " 'kathakali',\n",
       " 'odissi',\n",
       " 'kuchipudi',\n",
       " 'odissi',\n",
       " 'bharatanatyam',\n",
       " 'kathakali',\n",
       " 'sattriya',\n",
       " 'odissi',\n",
       " 'bharatanatyam',\n",
       " 'mohiniyattam',\n",
       " 'sattriya',\n",
       " 'odissi',\n",
       " 'odissi',\n",
       " 'odissi',\n",
       " 'kathakali',\n",
       " 'kathak',\n",
       " 'kathak',\n",
       " 'kuchipudi',\n",
       " 'bharatanatyam',\n",
       " 'kuchipudi',\n",
       " 'mohiniyattam',\n",
       " 'kuchipudi',\n",
       " 'kathakali',\n",
       " 'kuchipudi',\n",
       " 'sattriya',\n",
       " 'mohiniyattam',\n",
       " 'bharatanatyam',\n",
       " 'kathak',\n",
       " 'kuchipudi',\n",
       " 'kuchipudi',\n",
       " 'bharatanatyam',\n",
       " 'mohiniyattam',\n",
       " 'odissi',\n",
       " 'sattriya',\n",
       " 'sattriya',\n",
       " 'bharatanatyam',\n",
       " 'bharatanatyam',\n",
       " 'kathak',\n",
       " 'bharatanatyam',\n",
       " 'odissi',\n",
       " 'kuchipudi',\n",
       " 'kathakali',\n",
       " 'bharatanatyam',\n",
       " 'mohiniyattam',\n",
       " 'bharatanatyam',\n",
       " 'kathak',\n",
       " 'odissi',\n",
       " 'kuchipudi',\n",
       " 'kathakali',\n",
       " 'kathak',\n",
       " 'kathakali',\n",
       " 'sattriya',\n",
       " 'bharatanatyam',\n",
       " 'mohiniyattam',\n",
       " 'kuchipudi',\n",
       " 'mohiniyattam',\n",
       " 'odissi',\n",
       " 'kathakali',\n",
       " 'sattriya',\n",
       " 'kuchipudi',\n",
       " 'kuchipudi',\n",
       " 'kathak',\n",
       " 'kathak',\n",
       " 'manipuri',\n",
       " 'kuchipudi',\n",
       " 'sattriya',\n",
       " 'kathak',\n",
       " 'kathak',\n",
       " 'kathak',\n",
       " 'mohiniyattam',\n",
       " 'kuchipudi',\n",
       " 'sattriya',\n",
       " 'kuchipudi',\n",
       " 'kathak',\n",
       " 'manipuri',\n",
       " 'kuchipudi',\n",
       " 'kuchipudi',\n",
       " 'bharatanatyam',\n",
       " 'odissi',\n",
       " 'kuchipudi',\n",
       " 'kuchipudi',\n",
       " 'mohiniyattam',\n",
       " 'manipuri',\n",
       " 'bharatanatyam',\n",
       " 'odissi',\n",
       " 'kuchipudi',\n",
       " 'kathakali',\n",
       " 'kuchipudi',\n",
       " 'odissi',\n",
       " 'kuchipudi',\n",
       " 'odissi',\n",
       " 'kathakali',\n",
       " 'kathakali',\n",
       " 'kathakali',\n",
       " 'sattriya',\n",
       " 'odissi',\n",
       " 'kathakali',\n",
       " 'kathakali',\n",
       " 'mohiniyattam',\n",
       " 'odissi',\n",
       " 'manipuri',\n",
       " 'kathakali',\n",
       " 'manipuri',\n",
       " 'kathak',\n",
       " 'kuchipudi',\n",
       " 'bharatanatyam',\n",
       " 'sattriya',\n",
       " 'bharatanatyam',\n",
       " 'bharatanatyam',\n",
       " 'kuchipudi',\n",
       " 'mohiniyattam',\n",
       " 'manipuri',\n",
       " 'bharatanatyam',\n",
       " 'kuchipudi',\n",
       " 'kathak',\n",
       " 'sattriya',\n",
       " 'kathak',\n",
       " 'kuchipudi',\n",
       " 'kuchipudi',\n",
       " 'bharatanatyam',\n",
       " 'mohiniyattam',\n",
       " 'bharatanatyam',\n",
       " 'bharatanatyam',\n",
       " 'manipuri',\n",
       " 'bharatanatyam',\n",
       " 'mohiniyattam',\n",
       " 'sattriya',\n",
       " 'kuchipudi',\n",
       " 'kathak',\n",
       " 'odissi',\n",
       " 'sattriya']"
      ]
     },
     "execution_count": 152,
     "metadata": {},
     "output_type": "execute_result"
    }
   ],
   "source": [
    "pred"
   ]
  },
  {
   "cell_type": "markdown",
   "metadata": {},
   "source": [
    "# Making And Saving Submission File"
   ]
  },
  {
   "cell_type": "code",
   "execution_count": 158,
   "metadata": {},
   "outputs": [],
   "source": [
    "sample_submission1=pd.DataFrame({\"Image\":name[\"Image\"],\"target\":pred})"
   ]
  },
  {
   "cell_type": "code",
   "execution_count": 159,
   "metadata": {},
   "outputs": [],
   "source": [
    "sample_submission1.to_csv(\"sample_submission1.csv\",index=False)"
   ]
  },
  {
   "cell_type": "code",
   "execution_count": 169,
   "metadata": {},
   "outputs": [],
   "source": [
    "sample_submission2=pd.DataFrame({\"Image\":name[\"Image\"],\"target\":pred2})"
   ]
  },
  {
   "cell_type": "code",
   "execution_count": 170,
   "metadata": {},
   "outputs": [],
   "source": [
    "sample_submission2.to_csv(\"sample_submission2.csv\",index=False)"
   ]
  },
  {
   "cell_type": "code",
   "execution_count": 171,
   "metadata": {},
   "outputs": [],
   "source": [
    "from keras.applications.resnet50 import ResNet50, preprocess_input\n"
   ]
  },
  {
   "cell_type": "markdown",
   "metadata": {},
   "source": [
    "# Reshaping The Size Of Image For ResNet As Minimum Size Requirement is (197,197,3)"
   ]
  },
  {
   "cell_type": "code",
   "execution_count": 5,
   "metadata": {},
   "outputs": [],
   "source": [
    "df_train_new=pd.read_csv(\"train.csv\")"
   ]
  },
  {
   "cell_type": "code",
   "execution_count": 6,
   "metadata": {},
   "outputs": [],
   "source": [
    "df_test_new=pd.read_csv(\"test.csv\")"
   ]
  },
  {
   "cell_type": "code",
   "execution_count": 8,
   "metadata": {},
   "outputs": [],
   "source": [
    "from PIL import Image"
   ]
  },
  {
   "cell_type": "code",
   "execution_count": 9,
   "metadata": {},
   "outputs": [],
   "source": [
    "for i in range(df_train_new.shape[0]):\n",
    "    k=df_train_new[\"Image\"][i]\n",
    "    df_train_new[\"Image\"][i]=Image.open('train/{}'.format(k))\n",
    "    df_train_new[\"Image\"][i]=df_train_new[\"Image\"][i].resize((200,200))\n",
    "    "
   ]
  },
  {
   "cell_type": "code",
   "execution_count": 10,
   "metadata": {},
   "outputs": [],
   "source": [
    "for i in range(df_test_new.shape[0]):\n",
    "    k=df_test_new[\"Image\"][i]\n",
    "    df_test_new[\"Image\"][i]=Image.open('test/{}'.format(k))\n",
    "    df_test_new[\"Image\"][i]=df_test_new[\"Image\"][i].resize((200,200))\n",
    "\n",
    "    "
   ]
  },
  {
   "cell_type": "code",
   "execution_count": null,
   "metadata": {},
   "outputs": [],
   "source": [
    "from keras.applications.resnet50 import ResNet50, preprocess_input\n",
    "model = ResQNet50(weights='imagenet', include_top=False, input_shape=(200, 200, 3))"
   ]
  },
  {
   "cell_type": "code",
   "execution_count": 11,
   "metadata": {},
   "outputs": [],
   "source": [
    "for i in range(df_train_new.shape[0]):\n",
    "    k=df_train_new[\"Image\"][i]\n",
    "    df_train_new[\"Image\"][i]=np.array(k).astype('float32')\n",
    "    "
   ]
  },
  {
   "cell_type": "code",
   "execution_count": 12,
   "metadata": {},
   "outputs": [],
   "source": [
    "for i in range(df_test_new.shape[0]):\n",
    "    k=df_test_new[\"Image\"][i]\n",
    "    df_test_new[\"Image\"][i]=np.array(k).astype('float32')\n",
    "    "
   ]
  },
  {
   "cell_type": "code",
   "execution_count": 13,
   "metadata": {},
   "outputs": [
    {
     "data": {
      "text/html": [
       "<div>\n",
       "<style scoped>\n",
       "    .dataframe tbody tr th:only-of-type {\n",
       "        vertical-align: middle;\n",
       "    }\n",
       "\n",
       "    .dataframe tbody tr th {\n",
       "        vertical-align: top;\n",
       "    }\n",
       "\n",
       "    .dataframe thead th {\n",
       "        text-align: right;\n",
       "    }\n",
       "</style>\n",
       "<table border=\"1\" class=\"dataframe\">\n",
       "  <thead>\n",
       "    <tr style=\"text-align: right;\">\n",
       "      <th></th>\n",
       "      <th>Image</th>\n",
       "      <th>target</th>\n",
       "    </tr>\n",
       "  </thead>\n",
       "  <tbody>\n",
       "    <tr>\n",
       "      <th>0</th>\n",
       "      <td>[[[1.0, 1.0, 1.0], [1.0, 1.0, 1.0], [1.0, 1.0,...</td>\n",
       "      <td>manipuri</td>\n",
       "    </tr>\n",
       "    <tr>\n",
       "      <th>1</th>\n",
       "      <td>[[[9.0, 8.0, 16.0], [9.0, 8.0, 16.0], [10.0, 9...</td>\n",
       "      <td>bharatanatyam</td>\n",
       "    </tr>\n",
       "    <tr>\n",
       "      <th>2</th>\n",
       "      <td>[[[18.0, 14.0, 11.0], [20.0, 16.0, 13.0], [21....</td>\n",
       "      <td>odissi</td>\n",
       "    </tr>\n",
       "    <tr>\n",
       "      <th>3</th>\n",
       "      <td>[[[27.0, 21.0, 7.0], [26.0, 20.0, 6.0], [25.0,...</td>\n",
       "      <td>kathakali</td>\n",
       "    </tr>\n",
       "    <tr>\n",
       "      <th>4</th>\n",
       "      <td>[[[0.0, 0.0, 0.0], [0.0, 0.0, 0.0], [0.0, 0.0,...</td>\n",
       "      <td>odissi</td>\n",
       "    </tr>\n",
       "  </tbody>\n",
       "</table>\n",
       "</div>"
      ],
      "text/plain": [
       "                                               Image         target\n",
       "0  [[[1.0, 1.0, 1.0], [1.0, 1.0, 1.0], [1.0, 1.0,...       manipuri\n",
       "1  [[[9.0, 8.0, 16.0], [9.0, 8.0, 16.0], [10.0, 9...  bharatanatyam\n",
       "2  [[[18.0, 14.0, 11.0], [20.0, 16.0, 13.0], [21....         odissi\n",
       "3  [[[27.0, 21.0, 7.0], [26.0, 20.0, 6.0], [25.0,...      kathakali\n",
       "4  [[[0.0, 0.0, 0.0], [0.0, 0.0, 0.0], [0.0, 0.0,...         odissi"
      ]
     },
     "execution_count": 13,
     "metadata": {},
     "output_type": "execute_result"
    }
   ],
   "source": [
    "df_train_new.head()"
   ]
  },
  {
   "cell_type": "code",
   "execution_count": 22,
   "metadata": {},
   "outputs": [],
   "source": [
    "X_train_new=df_train_new[\"Image\"]"
   ]
  },
  {
   "cell_type": "code",
   "execution_count": 29,
   "metadata": {},
   "outputs": [],
   "source": [
    "X_test_new=df_test_new[\"Image\"]"
   ]
  },
  {
   "cell_type": "code",
   "execution_count": 18,
   "metadata": {},
   "outputs": [
    {
     "data": {
      "text/plain": [
       "(364,)"
      ]
     },
     "execution_count": 18,
     "metadata": {},
     "output_type": "execute_result"
    }
   ],
   "source": [
    "X_train_new.shape"
   ]
  },
  {
   "cell_type": "code",
   "execution_count": 23,
   "metadata": {},
   "outputs": [],
   "source": [
    "for i in range(df_train_new[\"Image\"].shape[0]):\n",
    "    X_train_new[i]=X_train_new[i].reshape(1,200,200,3)"
   ]
  },
  {
   "cell_type": "code",
   "execution_count": 225,
   "metadata": {},
   "outputs": [],
   "source": [
    "for i in range(df_test_new[\"Image\"].shape[0]):\n",
    "    X_test_new[i]=X_test_new[i].reshape(1,200,200,3)"
   ]
  },
  {
   "cell_type": "code",
   "execution_count": null,
   "metadata": {},
   "outputs": [],
   "source": [
    "stacked_array_new=np.vstack((X_train_new[0],X_train_new[1]))"
   ]
  },
  {
   "cell_type": "code",
   "execution_count": null,
   "metadata": {},
   "outputs": [],
   "source": [
    "stacked_array_test=np.vstack((X_test_new[0],X_test_new[1]))"
   ]
  },
  {
   "cell_type": "code",
   "execution_count": 31,
   "metadata": {},
   "outputs": [],
   "source": [
    "for i in range(2,df_train_new.shape[0]):\n",
    "    stacked_array_new=np.vstack((stacked_array_new,X_train_new[i]))\n",
    "    "
   ]
  },
  {
   "cell_type": "code",
   "execution_count": 32,
   "metadata": {},
   "outputs": [],
   "source": [
    "for i in range(2,df_test_new.shape[0]):\n",
    "    stacked_array_test=np.vstack((stacked_array_test,X_test_new[i]))\n",
    "    "
   ]
  },
  {
   "cell_type": "markdown",
   "metadata": {},
   "source": [
    "#  My Laptop Is Not Capable Of Training It So Saving These Preprocessed Data into .csv File To Train Them On Google Colab"
   ]
  },
  {
   "cell_type": "code",
   "execution_count": 229,
   "metadata": {},
   "outputs": [],
   "source": [
    "colab_train=pd.DataFrame({\"Image\":X_train_new,\"target\":df_train_new[\"target\"]})"
   ]
  },
  {
   "cell_type": "code",
   "execution_count": 230,
   "metadata": {},
   "outputs": [],
   "source": [
    "colab_train.to_csv(\"colab_train.csv\",index=False)"
   ]
  },
  {
   "cell_type": "code",
   "execution_count": 231,
   "metadata": {},
   "outputs": [],
   "source": [
    "colab_test=pd.DataFrame({\"Image\":X_test_new})\n",
    "colab_test.to_csv(\"colab_test.csv\",index=False)"
   ]
  },
  {
   "cell_type": "code",
   "execution_count": 2,
   "metadata": {},
   "outputs": [],
   "source": [
    "X_train=pd.read_csv(\"colab_train.csv\")\n"
   ]
  },
  {
   "cell_type": "code",
   "execution_count": 14,
   "metadata": {},
   "outputs": [
    {
     "data": {
      "text/plain": [
       "numpy.ndarray"
      ]
     },
     "execution_count": 14,
     "metadata": {},
     "output_type": "execute_result"
    }
   ],
   "source": [
    "#checking the dtype \n",
    "type(df_train_new[\"Image\"][0])"
   ]
  },
  {
   "cell_type": "code",
   "execution_count": 40,
   "metadata": {},
   "outputs": [],
   "source": [
    "#Preprocessing the data, so that it can be fed to the pre-trained ResNet50 model. \n",
    "resnet_train_input = preprocess_input(stacked_array_new)\n",
    "\n"
   ]
  },
  {
   "cell_type": "code",
   "execution_count": null,
   "metadata": {},
   "outputs": [],
   "source": [
    "#Creating bottleneck features for the training data\n",
    "train_features = model.predict(resnet_train_input)"
   ]
  },
  {
   "cell_type": "code",
   "execution_count": null,
   "metadata": {},
   "outputs": [],
   "source": [
    "np.savez('resnet_features_train', features=train_features)\n"
   ]
  },
  {
   "cell_type": "code",
   "execution_count": null,
   "metadata": {},
   "outputs": [],
   "source": [
    "model = Sequential()\n",
    "model.add(GlobalAveragePooling2D(input_shape=(200,200,3)))\n",
    "model.add(Dropout(0.3))\n",
    "model.add(Dense(10, activation='softmax'))\n",
    "model.summary()"
   ]
  },
  {
   "cell_type": "code",
   "execution_count": null,
   "metadata": {},
   "outputs": [],
   "source": [
    "model.compile(loss='categorical_crossentropy', optimizer='adam', \n",
    "              metrics=['accuracy'])\n"
   ]
  },
  {
   "cell_type": "code",
   "execution_count": null,
   "metadata": {},
   "outputs": [],
   "source": [
    "checkpointer = ModelCheckpoint(filepath='scratchmodel.best.hdf5', \n",
    "                               verbose=1,save_best_only=True)"
   ]
  },
  {
   "cell_type": "code",
   "execution_count": null,
   "metadata": {},
   "outputs": [],
   "source": [
    "model.fit(train_features, y_train, batch_size=32, epochs=10,\n",
    "          validation_split=0.2, callbacks=[checkpointer], verbose=1, shuffle=True)"
   ]
  },
  {
   "cell_type": "markdown",
   "metadata": {},
   "source": [
    "# Now You Can Make Prediction on Test set"
   ]
  },
  {
   "cell_type": "markdown",
   "metadata": {},
   "source": [
    "# Scaling  The Data Taking Higher Dimension\n"
   ]
  },
  {
   "cell_type": "code",
   "execution_count": 10,
   "metadata": {},
   "outputs": [],
   "source": [
    "for i in range(df_train.shape[0]):\n",
    "    k=df_train[\"Image\"][i]\n",
    "    df_train[\"Image\"][i]=Image.open('train/{}'.format(k))\n",
    "    df_train[\"Image\"][i]=df_train[\"Image\"][i].resize((128,128))\n",
    "\n",
    "    "
   ]
  },
  {
   "cell_type": "code",
   "execution_count": 15,
   "metadata": {},
   "outputs": [],
   "source": []
  },
  {
   "cell_type": "code",
   "execution_count": 18,
   "metadata": {},
   "outputs": [],
   "source": [
    "for i in range(df_train.shape[0]):\n",
    "    df_train[\"Image\"][i]=np.array(df_train[\"Image\"][i])\n",
    "   "
   ]
  },
  {
   "cell_type": "code",
   "execution_count": 20,
   "metadata": {},
   "outputs": [],
   "source": [
    "X_train_scaled=df_train.Image"
   ]
  },
  {
   "cell_type": "code",
   "execution_count": 21,
   "metadata": {},
   "outputs": [],
   "source": [
    "for i in range(df_train.shape[0]):\n",
    "    X_train_scaled[i]=X_train_scaled[i].reshape(1,128,128,3)"
   ]
  },
  {
   "cell_type": "markdown",
   "metadata": {},
   "source": [
    "# Scaling Our Inputs"
   ]
  },
  {
   "cell_type": "code",
   "execution_count": 23,
   "metadata": {},
   "outputs": [],
   "source": [
    "X_train_scaled=X_train_scaled/255"
   ]
  },
  {
   "cell_type": "code",
   "execution_count": 24,
   "metadata": {},
   "outputs": [],
   "source": [
    "y_train_scaled=df_train[\"target\"]"
   ]
  },
  {
   "cell_type": "code",
   "execution_count": 26,
   "metadata": {},
   "outputs": [],
   "source": [
    "stacked_scaled=np.vstack((X_train_scaled[0],X_train_scaled[1]))"
   ]
  },
  {
   "cell_type": "code",
   "execution_count": 27,
   "metadata": {},
   "outputs": [],
   "source": [
    "for i in range(2,df_train.shape[0]):\n",
    "    stacked_scaled=np.vstack((stacked_scaled,X_train_scaled[i]))"
   ]
  },
  {
   "cell_type": "code",
   "execution_count": 55,
   "metadata": {},
   "outputs": [
    {
     "name": "stdout",
     "output_type": "stream",
     "text": [
      "Epoch 1/4\n",
      "364/364 [==============================] - 10s 28ms/step - loss: 1.3678 - accuracy: 0.5247\n",
      "Epoch 2/4\n",
      "364/364 [==============================] - 10s 27ms/step - loss: 1.0526 - accuracy: 0.6566\n",
      "Epoch 3/4\n",
      "364/364 [==============================] - 10s 28ms/step - loss: 0.7872 - accuracy: 0.7582\n",
      "Epoch 4/4\n",
      "364/364 [==============================] - 10s 27ms/step - loss: 0.5308 - accuracy: 0.8489\n"
     ]
    },
    {
     "data": {
      "text/plain": [
       "<keras.callbacks.callbacks.History at 0x7f4d159fd3c8>"
      ]
     },
     "execution_count": 55,
     "metadata": {},
     "output_type": "execute_result"
    }
   ],
   "source": [
    "clf2.fit(stacked_scaled,y_train_scaled,batch_size=64,epochs=4)"
   ]
  },
  {
   "cell_type": "code",
   "execution_count": 56,
   "metadata": {},
   "outputs": [
    {
     "name": "stdout",
     "output_type": "stream",
     "text": [
      "Epoch 1/10\n",
      "364/364 [==============================] - 12s 34ms/step - loss: 2.1377 - accuracy: 0.1786\n",
      "Epoch 2/10\n",
      "364/364 [==============================] - 11s 29ms/step - loss: 1.7878 - accuracy: 0.3901\n",
      "Epoch 3/10\n",
      "364/364 [==============================] - 11s 29ms/step - loss: 1.1863 - accuracy: 0.6181\n",
      "Epoch 4/10\n",
      "364/364 [==============================] - 11s 30ms/step - loss: 0.6037 - accuracy: 0.8407\n",
      "Epoch 5/10\n",
      "364/364 [==============================] - 12s 32ms/step - loss: 0.2764 - accuracy: 0.9396\n",
      "Epoch 6/10\n",
      "364/364 [==============================] - 11s 31ms/step - loss: 0.1307 - accuracy: 0.9753\n",
      "Epoch 7/10\n",
      "364/364 [==============================] - 12s 33ms/step - loss: 0.0744 - accuracy: 0.9835\n",
      "Epoch 8/10\n",
      "364/364 [==============================] - 11s 31ms/step - loss: 0.0480 - accuracy: 0.9973\n",
      "Epoch 9/10\n",
      "364/364 [==============================] - 11s 30ms/step - loss: 0.0313 - accuracy: 0.9945\n",
      "Epoch 10/10\n",
      "364/364 [==============================] - 11s 29ms/step - loss: 0.0513 - accuracy: 0.9918\n"
     ]
    },
    {
     "data": {
      "text/plain": [
       "<keras.callbacks.callbacks.History at 0x7f4d158b5ba8>"
      ]
     },
     "execution_count": 56,
     "metadata": {},
     "output_type": "execute_result"
    }
   ],
   "source": [
    "clf.fit(stacked_scaled,y_train_scaled,batch_size=32,epochs=10)"
   ]
  },
  {
   "cell_type": "code",
   "execution_count": 77,
   "metadata": {},
   "outputs": [],
   "source": [
    "for i in range(df_test.shape[0]):\n",
    "    k=df_test[\"Image\"][i]\n",
    "    df_test[\"Image\"][i]=Image.open('test/{}'.format(k))\n",
    "    df_test[\"Image\"][i]=df_test[\"Image\"][i].resize((128,128))\n",
    "\n",
    "    "
   ]
  },
  {
   "cell_type": "code",
   "execution_count": 78,
   "metadata": {},
   "outputs": [],
   "source": [
    "for i in range(df_test.shape[0]):\n",
    "    df_test[\"Image\"][i]=np.array(df_test[\"Image\"][i])"
   ]
  },
  {
   "cell_type": "code",
   "execution_count": 79,
   "metadata": {},
   "outputs": [],
   "source": [
    "X_test_scaled=df_test.Image"
   ]
  },
  {
   "cell_type": "code",
   "execution_count": 80,
   "metadata": {},
   "outputs": [],
   "source": [
    "X_test_scaled=X_test_scaled/255"
   ]
  },
  {
   "cell_type": "code",
   "execution_count": 69,
   "metadata": {},
   "outputs": [],
   "source": [
    "for i in range(df_test.shape[0]):\n",
    "    #df_train[\"Image\"][i]=np.array(df_train[\"Image\"][i])\n",
    "    #df_train[\"Image\"][i]=df_train.reshape(1,128,128,3)\n",
    "    X_test_scaled[i]=X_train_scaled[i].reshape(1,128,128,3)"
   ]
  },
  {
   "cell_type": "code",
   "execution_count": 70,
   "metadata": {},
   "outputs": [
    {
     "data": {
      "text/plain": [
       "(156,)"
      ]
     },
     "execution_count": 70,
     "metadata": {},
     "output_type": "execute_result"
    }
   ],
   "source": [
    "X_test_scaled.shape"
   ]
  },
  {
   "cell_type": "code",
   "execution_count": 72,
   "metadata": {},
   "outputs": [],
   "source": [
    "stacked_scaled_test=np.vstack((X_test_scaled[0],X_test_scaled[1]))"
   ]
  },
  {
   "cell_type": "code",
   "execution_count": 73,
   "metadata": {},
   "outputs": [],
   "source": [
    "for i in range(2,df_test.shape[0]):\n",
    "    stacked_scaled_test=np.vstack((stacked_scaled_test,X_test_scaled[i]))"
   ]
  },
  {
   "cell_type": "code",
   "execution_count": null,
   "metadata": {},
   "outputs": [],
   "source": []
  },
  {
   "cell_type": "code",
   "execution_count": 83,
   "metadata": {},
   "outputs": [],
   "source": [
    "from keras.preprocessing import image"
   ]
  },
  {
   "cell_type": "code",
   "execution_count": 89,
   "metadata": {},
   "outputs": [],
   "source": [
    "pred2=[]\n",
    "for i in range(df_test.shape[0]):\n",
    "    test_image=image.load_img('test/{}'.format(name[\"Image\"][i]),target_size=(128,128))\n",
    "    test_image=image.img_to_array(test_image)\n",
    "    test_image=np.expand_dims(test_image,axis=0)\n",
    "    k=clf2.predict_classes(test_image)\n",
    "    pred2.append(classes[k[0]])\n",
    "\n",
    "\n",
    "    \n",
    "    "
   ]
  },
  {
   "cell_type": "code",
   "execution_count": 90,
   "metadata": {},
   "outputs": [
    {
     "data": {
      "text/plain": [
       "['kathakali',\n",
       " 'mohiniyattam',\n",
       " 'sattriya',\n",
       " 'odissi',\n",
       " 'kathak',\n",
       " 'kuchipudi',\n",
       " 'odissi',\n",
       " 'kathakali',\n",
       " 'bharatanatyam',\n",
       " 'odissi',\n",
       " 'kathakali',\n",
       " 'bharatanatyam',\n",
       " 'sattriya',\n",
       " 'sattriya',\n",
       " 'sattriya',\n",
       " 'bharatanatyam',\n",
       " 'odissi',\n",
       " 'odissi',\n",
       " 'mohiniyattam',\n",
       " 'odissi',\n",
       " 'kuchipudi',\n",
       " 'kathakali',\n",
       " 'kathakali',\n",
       " 'mohiniyattam',\n",
       " 'kathak',\n",
       " 'kathakali',\n",
       " 'odissi',\n",
       " 'bharatanatyam',\n",
       " 'odissi',\n",
       " 'bharatanatyam',\n",
       " 'mohiniyattam',\n",
       " 'odissi',\n",
       " 'manipuri',\n",
       " 'mohiniyattam',\n",
       " 'mohiniyattam',\n",
       " 'mohiniyattam',\n",
       " 'odissi',\n",
       " 'odissi',\n",
       " 'manipuri',\n",
       " 'kathakali',\n",
       " 'kathak',\n",
       " 'kathak',\n",
       " 'kathak',\n",
       " 'mohiniyattam',\n",
       " 'mohiniyattam',\n",
       " 'mohiniyattam',\n",
       " 'kuchipudi',\n",
       " 'mohiniyattam',\n",
       " 'kathakali',\n",
       " 'kuchipudi',\n",
       " 'mohiniyattam',\n",
       " 'mohiniyattam',\n",
       " 'kathak',\n",
       " 'bharatanatyam',\n",
       " 'kathak',\n",
       " 'kathak',\n",
       " 'kuchipudi',\n",
       " 'odissi',\n",
       " 'sattriya',\n",
       " 'sattriya',\n",
       " 'kuchipudi',\n",
       " 'sattriya',\n",
       " 'kathak',\n",
       " 'mohiniyattam',\n",
       " 'odissi',\n",
       " 'kuchipudi',\n",
       " 'kathakali',\n",
       " 'bharatanatyam',\n",
       " 'odissi',\n",
       " 'bharatanatyam',\n",
       " 'kathak',\n",
       " 'kuchipudi',\n",
       " 'odissi',\n",
       " 'odissi',\n",
       " 'odissi',\n",
       " 'kathakali',\n",
       " 'sattriya',\n",
       " 'odissi',\n",
       " 'kathakali',\n",
       " 'kathak',\n",
       " 'kathakali',\n",
       " 'kuchipudi',\n",
       " 'odissi',\n",
       " 'odissi',\n",
       " 'odissi',\n",
       " 'kuchipudi',\n",
       " 'mohiniyattam',\n",
       " 'mohiniyattam',\n",
       " 'kathakali',\n",
       " 'kathakali',\n",
       " 'mohiniyattam',\n",
       " 'sattriya',\n",
       " 'kathak',\n",
       " 'kuchipudi',\n",
       " 'mohiniyattam',\n",
       " 'kathak',\n",
       " 'sattriya',\n",
       " 'kathakali',\n",
       " 'mohiniyattam',\n",
       " 'manipuri',\n",
       " 'kuchipudi',\n",
       " 'sattriya',\n",
       " 'odissi',\n",
       " 'odissi',\n",
       " 'kathak',\n",
       " 'kuchipudi',\n",
       " 'kathakali',\n",
       " 'odissi',\n",
       " 'manipuri',\n",
       " 'odissi',\n",
       " 'kuchipudi',\n",
       " 'kathakali',\n",
       " 'kuchipudi',\n",
       " 'odissi',\n",
       " 'kuchipudi',\n",
       " 'odissi',\n",
       " 'kathakali',\n",
       " 'kathakali',\n",
       " 'kathakali',\n",
       " 'kathakali',\n",
       " 'odissi',\n",
       " 'kathakali',\n",
       " 'sattriya',\n",
       " 'kathakali',\n",
       " 'odissi',\n",
       " 'mohiniyattam',\n",
       " 'kuchipudi',\n",
       " 'sattriya',\n",
       " 'kathak',\n",
       " 'kathak',\n",
       " 'bharatanatyam',\n",
       " 'mohiniyattam',\n",
       " 'bharatanatyam',\n",
       " 'kuchipudi',\n",
       " 'kathak',\n",
       " 'mohiniyattam',\n",
       " 'odissi',\n",
       " 'kathakali',\n",
       " 'odissi',\n",
       " 'kathak',\n",
       " 'sattriya',\n",
       " 'kathak',\n",
       " 'sattriya',\n",
       " 'kathakali',\n",
       " 'kathak',\n",
       " 'odissi',\n",
       " 'kathak',\n",
       " 'sattriya',\n",
       " 'manipuri',\n",
       " 'sattriya',\n",
       " 'mohiniyattam',\n",
       " 'sattriya',\n",
       " 'kathakali',\n",
       " 'kathak',\n",
       " 'odissi',\n",
       " 'sattriya']"
      ]
     },
     "execution_count": 90,
     "metadata": {},
     "output_type": "execute_result"
    }
   ],
   "source": [
    "pred2"
   ]
  },
  {
   "cell_type": "code",
   "execution_count": 91,
   "metadata": {},
   "outputs": [],
   "source": [
    "pred1=[]\n",
    "for i in range(df_test.shape[0]):\n",
    "    test_image=image.load_img('test/{}'.format(name[\"Image\"][i]),target_size=(128,128))\n",
    "    test_image=image.img_to_array(test_image)\n",
    "    test_image=np.expand_dims(test_image,axis=0)\n",
    "    k=clf.predict_classes(test_image)\n",
    "    pred1.append(classes[k[0]])\n",
    "\n",
    "\n",
    "    \n",
    "    "
   ]
  },
  {
   "cell_type": "code",
   "execution_count": 92,
   "metadata": {},
   "outputs": [
    {
     "data": {
      "text/plain": [
       "['kathakali',\n",
       " 'kathakali',\n",
       " 'sattriya',\n",
       " 'odissi',\n",
       " 'kathakali',\n",
       " 'kuchipudi',\n",
       " 'manipuri',\n",
       " 'kuchipudi',\n",
       " 'kuchipudi',\n",
       " 'kathakali',\n",
       " 'mohiniyattam',\n",
       " 'bharatanatyam',\n",
       " 'sattriya',\n",
       " 'kathakali',\n",
       " 'sattriya',\n",
       " 'bharatanatyam',\n",
       " 'odissi',\n",
       " 'bharatanatyam',\n",
       " 'mohiniyattam',\n",
       " 'kathakali',\n",
       " 'sattriya',\n",
       " 'kathakali',\n",
       " 'kathakali',\n",
       " 'mohiniyattam',\n",
       " 'mohiniyattam',\n",
       " 'kathakali',\n",
       " 'mohiniyattam',\n",
       " 'kathakali',\n",
       " 'odissi',\n",
       " 'bharatanatyam',\n",
       " 'mohiniyattam',\n",
       " 'manipuri',\n",
       " 'manipuri',\n",
       " 'manipuri',\n",
       " 'mohiniyattam',\n",
       " 'manipuri',\n",
       " 'odissi',\n",
       " 'odissi',\n",
       " 'manipuri',\n",
       " 'kathakali',\n",
       " 'kathak',\n",
       " 'kathak',\n",
       " 'kathakali',\n",
       " 'mohiniyattam',\n",
       " 'mohiniyattam',\n",
       " 'mohiniyattam',\n",
       " 'kuchipudi',\n",
       " 'sattriya',\n",
       " 'kathakali',\n",
       " 'kuchipudi',\n",
       " 'mohiniyattam',\n",
       " 'mohiniyattam',\n",
       " 'kathak',\n",
       " 'kuchipudi',\n",
       " 'kathakali',\n",
       " 'kathakali',\n",
       " 'kuchipudi',\n",
       " 'odissi',\n",
       " 'odissi',\n",
       " 'sattriya',\n",
       " 'kathakali',\n",
       " 'sattriya',\n",
       " 'kathak',\n",
       " 'kathakali',\n",
       " 'kuchipudi',\n",
       " 'kuchipudi',\n",
       " 'kathakali',\n",
       " 'kathakali',\n",
       " 'odissi',\n",
       " 'bharatanatyam',\n",
       " 'kathak',\n",
       " 'kathak',\n",
       " 'mohiniyattam',\n",
       " 'mohiniyattam',\n",
       " 'kuchipudi',\n",
       " 'kathakali',\n",
       " 'manipuri',\n",
       " 'kathakali',\n",
       " 'kathakali',\n",
       " 'kuchipudi',\n",
       " 'mohiniyattam',\n",
       " 'kuchipudi',\n",
       " 'mohiniyattam',\n",
       " 'kathakali',\n",
       " 'kathakali',\n",
       " 'kathakali',\n",
       " 'mohiniyattam',\n",
       " 'kathakali',\n",
       " 'kathakali',\n",
       " 'kathakali',\n",
       " 'sattriya',\n",
       " 'manipuri',\n",
       " 'kathak',\n",
       " 'kathakali',\n",
       " 'kathakali',\n",
       " 'kathak',\n",
       " 'mohiniyattam',\n",
       " 'kuchipudi',\n",
       " 'kathakali',\n",
       " 'manipuri',\n",
       " 'kuchipudi',\n",
       " 'kathakali',\n",
       " 'kathak',\n",
       " 'odissi',\n",
       " 'bharatanatyam',\n",
       " 'kuchipudi',\n",
       " 'kathakali',\n",
       " 'kuchipudi',\n",
       " 'mohiniyattam',\n",
       " 'kathakali',\n",
       " 'kuchipudi',\n",
       " 'kathakali',\n",
       " 'kuchipudi',\n",
       " 'odissi',\n",
       " 'kuchipudi',\n",
       " 'odissi',\n",
       " 'kathakali',\n",
       " 'kathakali',\n",
       " 'mohiniyattam',\n",
       " 'kathakali',\n",
       " 'odissi',\n",
       " 'kathakali',\n",
       " 'manipuri',\n",
       " 'mohiniyattam',\n",
       " 'odissi',\n",
       " 'mohiniyattam',\n",
       " 'mohiniyattam',\n",
       " 'mohiniyattam',\n",
       " 'kathakali',\n",
       " 'mohiniyattam',\n",
       " 'bharatanatyam',\n",
       " 'mohiniyattam',\n",
       " 'bharatanatyam',\n",
       " 'kathakali',\n",
       " 'kathak',\n",
       " 'kathakali',\n",
       " 'kuchipudi',\n",
       " 'mohiniyattam',\n",
       " 'bharatanatyam',\n",
       " 'kathak',\n",
       " 'sattriya',\n",
       " 'bharatanatyam',\n",
       " 'kathakali',\n",
       " 'kathakali',\n",
       " 'kuchipudi',\n",
       " 'mohiniyattam',\n",
       " 'kuchipudi',\n",
       " 'sattriya',\n",
       " 'manipuri',\n",
       " 'sattriya',\n",
       " 'kathakali',\n",
       " 'sattriya',\n",
       " 'kathakali',\n",
       " 'kathak',\n",
       " 'kathakali',\n",
       " 'sattriya']"
      ]
     },
     "execution_count": 92,
     "metadata": {},
     "output_type": "execute_result"
    }
   ],
   "source": [
    "pred1"
   ]
  },
  {
   "cell_type": "code",
   "execution_count": 93,
   "metadata": {},
   "outputs": [],
   "source": [
    "sample_submission3=pd.DataFrame({\"Image\":name[\"Image\"],\"target\":pred1})"
   ]
  },
  {
   "cell_type": "code",
   "execution_count": 94,
   "metadata": {},
   "outputs": [],
   "source": [
    "sample_submission3.to_csv(\"sample_submission3.csv\",index=False)"
   ]
  },
  {
   "cell_type": "code",
   "execution_count": 95,
   "metadata": {},
   "outputs": [],
   "source": [
    "sample_submission4=pd.DataFrame({\"Image\":name[\"Image\"],\"target\":pred2})"
   ]
  },
  {
   "cell_type": "code",
   "execution_count": 96,
   "metadata": {},
   "outputs": [],
   "source": [
    "sample_submission4.to_csv(\"sample_submission4.csv\",index=False)"
   ]
  }
 ],
 "metadata": {
  "kernelspec": {
   "display_name": "Python 3",
   "language": "python",
   "name": "python3"
  },
  "language_info": {
   "codemirror_mode": {
    "name": "ipython",
    "version": 3
   },
   "file_extension": ".py",
   "mimetype": "text/x-python",
   "name": "python",
   "nbconvert_exporter": "python",
   "pygments_lexer": "ipython3",
   "version": "3.7.3"
  }
 },
 "nbformat": 4,
 "nbformat_minor": 2
}
